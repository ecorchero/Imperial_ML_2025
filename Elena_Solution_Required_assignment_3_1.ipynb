{
 "cells": [
  {
   "cell_type": "markdown",
   "metadata": {},
   "source": [
    "# Required assignment 3.1-Monte Carlo simulations"
   ]
  },
  {
   "cell_type": "markdown",
   "metadata": {},
   "source": [
    "The Monty Hall problem is a well-known probability puzzle inspired by the game show Let’s Make a Deal, hosted by Monty Hall.\n",
    "\n",
    "In the game show, you’re presented with three doors. Behind one is a car; behind the other two, goats. You pick a door, hoping for the car. Monty, who knows what’s behind each door, opens one of the remaining two to reveal a goat. He then gives you a choice: stick with your original door or switch to the other unopened one.\n",
    "\n",
    "What should you do? Stay or switch?\n",
    "\n",
    "Let’s simulate this scenario in Python to find out."
   ]
  },
  {
   "cell_type": "code",
   "execution_count": 7,
   "metadata": {},
   "outputs": [],
   "source": [
    "#import necessary libraries\n",
    "\n",
    "import numpy as np\n",
    "import random\n",
    "from random import randrange\n",
    "from matplotlib import pyplot as plt"
   ]
  },
  {
   "cell_type": "markdown",
   "metadata": {},
   "source": [
    "## The original Monty Hall game\n",
    "\n",
    "### Step 1: Construct three 'imaginary' doors, one with a car behind and not known to the player\n",
    "\n",
    "#### Question 1: Get the player's input about their choice of door\n",
    "\n",
    "- Store the selected door in a variable called `picked_door`. \n",
    "\n",
    "- Remove the `picked_door` from the list of `doors`.\n"
   ]
  },
  {
   "cell_type": "code",
   "execution_count": 8,
   "metadata": {
    "deletable": false,
    "nbgrader": {
     "cell_type": "code",
     "checksum": "bd571af49e82359d3f70f8c50b48e1d0",
     "grade": false,
     "grade_id": "cell-2fabc04c53ca2705",
     "locked": false,
     "schema_version": 3,
     "solution": true
    }
   },
   "outputs": [
    {
     "name": "stdout",
     "output_type": "stream",
     "text": [
      "You picked door\n",
      " 1.\n",
      "The remaining doors are therefore:\n",
      " [0, 2]\n"
     ]
    }
   ],
   "source": [
    "###GRADED\n",
    "# Write the logic for picking one door and removing it\n",
    "\n",
    "#Randomly placing the car\n",
    "#player choosing a door randomly\n",
    "#Removing that door from the avaiable options\n",
    "\n",
    "picked_door = None\n",
    "winning_door = randrange(3)\n",
    "random.seed(23) # Set the random number generator \n",
    "doors = [0,1,2] # Represents the three doors\n",
    "\n",
    "# YOUR CODE HERE\n",
    "\n",
    "picked_door = random.choice(doors) # Player choosing one door randomly\n",
    "doors.remove(picked_door) # Remove that door from the available options\n",
    "\n",
    "print(\"You picked door\\n\", str(picked_door) + \".\")\n",
    "print(\"The remaining doors are therefore:\\n\", doors)\n"
   ]
  },
  {
   "cell_type": "code",
   "execution_count": null,
   "metadata": {
    "deletable": false,
    "editable": false,
    "nbgrader": {
     "cell_type": "code",
     "checksum": "dbd398185c9b0c5a05092cdf27c33653",
     "grade": true,
     "grade_id": "cell-f35cabbbd978d2b8",
     "locked": true,
     "points": 1,
     "schema_version": 3,
     "solution": false
    }
   },
   "outputs": [],
   "source": []
  },
  {
   "cell_type": "markdown",
   "metadata": {},
   "source": [
    "The `reveal_empty_door()` function simulates the game show host’s action in the Monty Hall problem by revealing a non-winning door. It ensures the host never opens the door hiding the prize, reflecting the host’s knowledge and intentional behaviour. This is essential for accurately modelling the decision-making dynamics and outcomes of the Monty Hall scenario."
   ]
  },
  {
   "cell_type": "code",
   "execution_count": 9,
   "metadata": {},
   "outputs": [],
   "source": [
    "def reveal_empty_door(doors, winning_door):\n",
    "    \"\"\"\n",
    "    The host knows which door is winning, so opens one of the empty doors!\n",
    "    \"\"\"\n",
    "    sample_from = [] #Host cannot open the door that is the winning door. \n",
    "    #So the host has 1 or 2 candidate doors.\n",
    "    \n",
    "    if len(doors) != 2:\n",
    "        print(\"There is an issue!\")\n",
    "        return None\n",
    "    else: \n",
    "        # Check the first remaining door\n",
    "        if doors[0] != winning_door: # If first door is NOT winning door (it has a goat)\n",
    "            sample_from.append(doors[0]) # Add it to the list of doors Monty can open\n",
    "\n",
    "        # Check the second remaining door\n",
    "        if doors[1] != winning_door: # If 2nd door is NOT winning door (it has a goat)\n",
    "            sample_from.append(doors[1]) # Add it to the list of doors Monty can open\n",
    "           \n",
    "    # Monty randomly chooses one from the valid options (will always be a goat)\n",
    "    return random.choice(sample_from)"
   ]
  },
  {
   "cell_type": "markdown",
   "metadata": {},
   "source": [
    "The host reveals an empty door, removes it from the available choices and identifies the remaining unopened door, which is the contestant's alternative if they choose to switch. This step is central to the decision-making process in the Monty Hall problem."
   ]
  },
  {
   "cell_type": "code",
   "execution_count": 10,
   "metadata": {},
   "outputs": [
    {
     "name": "stdout",
     "output_type": "stream",
     "text": [
      "The host reveals door\n",
      " 2\n"
     ]
    }
   ],
   "source": [
    "# Call the reveal_empty_door function to get which door Monty opens\n",
    "open_door = reveal_empty_door(doors, winning_door)\n",
    "\n",
    "print(\"The host reveals door\\n\", open_door) # Print which door Monty revealed\n",
    "\n",
    "doors.remove(open_door) # Remove the opened door from the list of available doors\n",
    "\n",
    "# Identify the single remaining unopened door (the switch option)\n",
    "remaining_door = doors[0] # Since 'doors' now only contains one element\n"
   ]
  },
  {
   "cell_type": "markdown",
   "metadata": {},
   "source": [
    "The contestant is reminded of their initial choice and given the option to switch to the other unopened door, highlighting the critical decision point in the Monty Hall problem."
   ]
  },
  {
   "cell_type": "code",
   "execution_count": 11,
   "metadata": {},
   "outputs": [
    {
     "name": "stdout",
     "output_type": "stream",
     "text": [
      "You initially picked door:\n",
      " 1 but you can switch to door:\n",
      " 0\n"
     ]
    }
   ],
   "source": [
    "# Remind the contestant of their initial choice and the switch option\n",
    "print(\"You initially picked door:\\n\", picked_door, \"but you can switch to door:\\n\", remaining_door)\n"
   ]
  },
  {
   "cell_type": "markdown",
   "metadata": {},
   "source": [
    "The contestant chooses whether to switch doors or stay with the original selection. If `yes_no` is 'yes', the choice is updated to the other unopened door. Otherwise, the original choice is retained. A message is printed indicating the contestant's final selection."
   ]
  },
  {
   "cell_type": "code",
   "execution_count": 12,
   "metadata": {},
   "outputs": [
    {
     "name": "stdout",
     "output_type": "stream",
     "text": [
      "You switched to door:\n",
      " 0\n"
     ]
    }
   ],
   "source": [
    "yes_no = 'yes'  # Change to 'no' if you want to keep the original door\n",
    "\n",
    "if yes_no == \"yes\":\n",
    "    print(\"You switched to door:\\n\", remaining_door)\n",
    "    picked_door = remaining_door # Update the contestant's choice to the new door if YES SWITCH\n",
    "else:\n",
    "    print(\"You keep your door:\\n\", picked_door) # picked_door remains the same, if NO SWITCH\n"
   ]
  },
  {
   "cell_type": "code",
   "execution_count": 13,
   "metadata": {},
   "outputs": [
    {
     "name": "stdout",
     "output_type": "stream",
     "text": [
      "Let's see if we won:\n",
      "(True means you are the winner!)\n",
      "\n",
      "True\n"
     ]
    }
   ],
   "source": [
    "# --- Determining the Win/Loss ---\n",
    "print(\"Let's see if we won:\\n(True means you are the winner!)\\n\")\n",
    "print(picked_door == winning_door) # Compares final chosen door with the winning door"
   ]
  },
  {
   "cell_type": "markdown",
   "metadata": {},
   "source": [
    "### Step 2: Run the simulation function, which returns 1 for a win and 0 otherwise\n",
    "\n",
    "The `simulate_round()` function runs a single Monty Hall game round. The contestant selects a door, the prize is randomly placed and the host reveals a non-winning door. Based on the contestant's decision to switch or stay (`yes_no`), the function returns 1 for a win and 0 for a loss.\n"
   ]
  },
  {
   "cell_type": "code",
   "execution_count": 14,
   "metadata": {},
   "outputs": [],
   "source": [
    "def simulate_round(picked_door, yes_no):\n",
    "    \"\"\"\n",
    "    Inputs: picked_door (0 1 or 2), decision of switching the door (\"yes\" or \"no\")\n",
    "    Returns: whether or not we win the prize (1: win, 0: lose)\n",
    "    \"\"\"\n",
    "    \n",
    "    # 1. Initialise the full set of doors for THIS round. This list is LOCAL to the function.\n",
    "    doors = [0,1,2]\n",
    "\n",
    "    # 2. Randomly places the car for THIS round.\n",
    "    winning_door = randrange(3) # it can be 0, 1, or 2! We don't know yet.\n",
    "    \n",
    "    # 3. Simulates the player's initial choice and removes it from the LOCAL 'doors' list.\n",
    "    doors.remove(picked_door)  # 'doors' now contains only 2 doors excluding initial player choice\n",
    "    \n",
    "    # 4. Monty reveals a goat door. The 'doors' list how contains only the 2 unpicked doors.\n",
    "    open_door = reveal_empty_door(doors, winning_door)\n",
    "    \n",
    "    # 5. Remove from LOCAL 'doors list the revealed goat door\n",
    "    doors.remove(open_door)\n",
    "\n",
    "    # 6. The single remaining door in the 'doors' list is the switch option.\n",
    "    remaining_door = doors[0]\n",
    "\n",
    "     # 7. Player decides to switch or stick.\n",
    "    if yes_no == \"yes\":  #If YES switching, update 'picked_door' to the 'remaining_door'.\n",
    "        picked_door = remaining_door # If sticking (NO), 'picked_door' retains initial value \n",
    "                                    #(the one passed into the function).\n",
    "    \n",
    "    # 8. Return 1 for a win, 0 for a loss.\n",
    "    return int(picked_door == winning_door)\n"
   ]
  },
  {
   "cell_type": "markdown",
   "metadata": {},
   "source": [
    "## Step 3: Simulate player's decisions"
   ]
  },
  {
   "cell_type": "markdown",
   "metadata": {},
   "source": [
    "The Monty Hall game is simulated 30,000 times with the contestant always choosing door 1 and never switching. Each round's outcome is recorded, and the cumulative win ratio is calculated to show how the winning percentage evolves over time.\n",
    "\n"
   ]
  },
  {
   "cell_type": "code",
   "execution_count": 15,
   "metadata": {},
   "outputs": [],
   "source": [
    "picked_door = 1 #fix a door (0,1, or 2)\n",
    "yes_no = \"no\" #let's start with the strategy of keeping our door!\n",
    "simulate = 30000 #number of times to simulate\n",
    "\n",
    "# Start an array to store the win/loss (1 or 0) for each simulation round\n",
    "results = np.zeros(simulate) #a lot of zeros\n",
    "\n",
    "# Loop through the desired number of simulations\n",
    "for i in range(simulate):\n",
    "    # Run a single round of the game with the fixed picked_door and \"no\" (stick) strategy\n",
    "    results[i] = simulate_round(picked_door, yes_no)\n",
    "    \n",
    "# Calculate the cumulative win ratio\n",
    "ratios = np.cumsum(results) / (np.arange(1,simulate+ 1))\n",
    "# np.cumsum(results) gives a running total of wins\n",
    "# np.arange(1, simulate + 1) creates an array [1, 2, 3, ..., 30000] for division\n",
    "# This calculates the win ratio after 1 round, then after 2, etc., up to 30000 rounds\n"
   ]
  },
  {
   "cell_type": "markdown",
   "metadata": {},
   "source": [
    "The plot displays the first 3,000 rounds of Monty Hall simulations where the contestant does not switch doors. The x-axis represents the number of rounds played, and the y-axis shows the cumulative win percentage. A dashed horizontal line at 1/3 indicates the theoretical probability of winning by staying with the initial choice."
   ]
  },
  {
   "cell_type": "code",
   "execution_count": 16,
   "metadata": {},
   "outputs": [
    {
     "data": {
      "image/png": "[encoded data removed]",
      "text/plain": [
       "<Figure size 640x480 with 1 Axes>"
      ]
     },
     "metadata": {},
     "output_type": "display_data"
    }
   ],
   "source": [
    "plot_limit = 3000 #plot how the ratio changes oby increasing $n$\n",
    "x = np.arange(1, plot_limit + 1) # Creates the x-axis values (number of rounds)\n",
    "y = ratios[:plot_limit] # Selects the cumulative win percentages for the first 'plot_limit' rounds\n",
    "\n",
    "plt.title(r\"Win ratio over (n) if we say 'no'\") # Sets the title of the plot\n",
    "plt.xlabel(\"n = number of rounds played\") # Labels the x-axis\n",
    "plt.ylabel(r\"Cumulative win percentage\") # Labels the y-axis\n",
    "\n",
    "# Adds a horizontal dashed line at y=1/3 (the theoretical win probability for sticking)\n",
    "plt.axhline(y = 1/3, color = 'k', linestyle='--', alpha = 0.6, label = r\"Probability of wining\")\n",
    "\n",
    "plt.plot(x,y) # Plots the cumulative win percentage over the number of rounds\n",
    "plt.xlim(-5,plot_limit) # Sets the limits for the x-axis\n",
    "plt.ylim(0.1,0.6) # Sets the limits for the y-axis\n",
    "plt.legend() # Displays the legend for the horizontal line\n",
    "plt.show() # Shows the plot"
   ]
  },
  {
   "cell_type": "markdown",
   "metadata": {},
   "source": [
    "The plot shows the observed win ratio gradually converging toward the expected value, with axis limits adjusted to highlight the 10 per cent to 60 per cent win rate range for clarity."
   ]
  },
  {
   "cell_type": "markdown",
   "metadata": {},
   "source": [
    "#### Question 2: Simulate the decisions for the following situation\n",
    "\n",
    "If `picked_door` is 2 and the user chooses to switch (`yes_no` = 'yes'), run the simulation for 10,000 iterations."
   ]
  },
  {
   "cell_type": "code",
   "execution_count": 17,
   "metadata": {
    "deletable": false,
    "nbgrader": {
     "cell_type": "code",
     "checksum": "df74e8b1aa30e19ec7948d82ef544967",
     "grade": false,
     "grade_id": "cell-a3d098f891785682",
     "locked": false,
     "schema_version": 3,
     "solution": true
    }
   },
   "outputs": [],
   "source": [
    "### GRADED\n",
    "picked_door = 2 # Fixed initial door choice\n",
    "yes_no = \"yes\"  # Strategy: always switch\n",
    "simulate = 10000 # Number of iterations\n",
    "\n",
    "### YOUR SOLUTION HERE\n",
    "# YOUR CODE HERE\n",
    "#raise NotImplementedError()\n",
    "results = np.zeros(simulate) # Start array to store win/loss outcomes (1 for win, 0 for loss)\n",
    "\n",
    "# Run one round of simulation\n",
    "for i in range(simulate):\n",
    "    results[i] = simulate_round(picked_door, yes_no) \n",
    "\n",
    "# Calculate cumulative win ratio\n",
    "ratios = np.cumsum(results) / (np.arange(1, simulate + 1)) \n"
   ]
  },
  {
   "cell_type": "code",
   "execution_count": null,
   "metadata": {
    "deletable": false,
    "editable": false,
    "nbgrader": {
     "cell_type": "code",
     "checksum": "08e454da991b3618e57f8d701ac0ac49",
     "grade": true,
     "grade_id": "cell-36c89f6e6c80f7c3",
     "locked": true,
     "points": 1,
     "schema_version": 3,
     "solution": false
    }
   },
   "outputs": [],
   "source": []
  },
  {
   "cell_type": "markdown",
   "metadata": {},
   "source": [
    "The simulations for Question 2 are plotted below. "
   ]
  },
  {
   "cell_type": "code",
   "execution_count": 18,
   "metadata": {},
   "outputs": [
    {
     "data": {
      "image/png": "[encoded data removed]",
      "text/plain": [
       "<Figure size 640x480 with 1 Axes>"
      ]
     },
     "metadata": {},
     "output_type": "display_data"
    }
   ],
   "source": [
    "plot_limit = 3000 # This will plot the first 3000 rounds for clarity\n",
    "x = np.arange(1, plot_limit + 1)\n",
    "y = ratios[:plot_limit] # Uses the first 3000 ratios from our 'ratios' calculation\n",
    "\n",
    "plt.title(r\"Win ratio over (n) if we picked_door = 2 and say 'yes' to switch\")\n",
    "plt.xlabel(\"n = number of rounds played\")\n",
    "plt.ylabel(r\"Cumulative win percentage\")\n",
    "\n",
    "# This time the line is at y=2/3 - Because if you switch your overall probability of winning is 2/3.\n",
    "plt.axhline(y = 2/3, color = 'k', linestyle='--', alpha = 0.6, label = r\"Probability of winning\")\n",
    "\n",
    "plt.plot(x,y, color='r') # Plots the simulated win ratio\n",
    "plt.xlim(-5,plot_limit)\n",
    "plt.ylim(0.4,0.8) # Adjusted y-limits to better show convergence around 2/3\n",
    "plt.legend()\n",
    "plt.show()"
   ]
  },
  {
   "cell_type": "markdown",
   "metadata": {},
   "source": [
    "## Modification of the game\n",
    "\n",
    "Each time the host offers you the option to switch doors, you flip a biased coin with probability $\\theta$ of landing on 'H'. If it lands on 'H', you switch; otherwise, you stick with your original choice."
   ]
  },
  {
   "cell_type": "code",
   "execution_count": 19,
   "metadata": {},
   "outputs": [],
   "source": [
    "def simulate_with_coins(picked_door, theta):\n",
    "    \"\"\"\n",
    "    Inputs: picked_door (0 1 or 2), decision of switching the door (\"yes\" or \"no\")\n",
    "    Returns: whether or not we win the prize (1: win, 0: lose)\n",
    "    \"\"\"\n",
    "    doors = [0,1,2] # Starts the doors for the round\n",
    "    winning_door = randrange(3) # Place the car randomly\n",
    "    \n",
    "    # Simulate player's initial pick by removing it from the LOCAL doors list\n",
    "    doors.remove(picked_door)\n",
    "   \n",
    "    # Monty reveals a Goat door\n",
    "    open_door = reveal_empty_door(doors, winning_door)\n",
    "\n",
    "    # Remove the opened door from LOCAL doors list\n",
    "    doors.remove(open_door)\n",
    "    \n",
    "    # Identify the single remaining unopened door\n",
    "    remaining_door = doors[0]\n",
    "   \n",
    "    # Simulate the biased coin flip (some times switch some times dont)\n",
    "    flip = np.random.uniform(0,1) # Generates a random float between 0.0 and 1.0\n",
    "\n",
    "    # Decision based on the coin flip and theta\n",
    "    if flip <= theta:\n",
    "        # If the random 'flip' value is less than or equal to 'theta', it's like landing on 'H' YES\n",
    "        picked_door = remaining_door  #SWITCH\n",
    "    else: # Otherwise, it's like landing on 'T' NO \n",
    "        # picked_door = picked_door  # This line is redundant, as picked_door is already the original choice.\n",
    "        pass # No change to picked_door if sticking\n",
    "    \n",
    "   # Determine win/loss\n",
    "    return int(picked_door == winning_door)"
   ]
  },
  {
   "cell_type": "markdown",
   "metadata": {},
   "source": [
    "#### Question 3: Show the probability of winning using this strategy as a function of $\\theta$.\n",
    "\n",
    "If $\\theta = 0.6$, write the logic for selecting a door using the `simulate_with_coins` function, and compute the value of ratios.\n",
    "\n",
    "Hint: Follow the same approach as in Question 2, using `picked_door = 1` and `simulate = 30,000`."
   ]
  },
  {
   "cell_type": "code",
   "execution_count": 20,
   "metadata": {
    "deletable": false,
    "nbgrader": {
     "cell_type": "code",
     "checksum": "011689e0db3607f94631bf9a61e10f44",
     "grade": false,
     "grade_id": "cell-082d5746c4058563",
     "locked": false,
     "schema_version": 3,
     "solution": true
    }
   },
   "outputs": [
    {
     "name": "stdout",
     "output_type": "stream",
     "text": [
      "We win with a 0.5312666666666667 fraction of the time!\n"
     ]
    }
   ],
   "source": [
    "###GRADED\n",
    "\n",
    "picked_door = 1 # The door the contestant chooses at the start\n",
    "theta = 0.6 # The probability (from 0.0 to 1.0) that the contestant will CHOOSE TO SWITCH (loaded)\n",
    "simulate = 30000  # The total number of times to run the Monty Hall game.\n",
    "###YOUR SOLUTION HERE\n",
    "\n",
    "# YOUR CODE HERE\n",
    "\n",
    "# start a NumPy array to store the result of each game round (1 for win / 0 for loss)\n",
    "results = np.zeros(simulate) # Creates an array of 30,000 zeros initially.\n",
    "\n",
    "# Run the simulation for the simulate number of times\n",
    "for i in range(simulate):\n",
    "    # Call the 'simulate_with_coins' function (one full game) for each round. Adds the 'theta' strategy.\n",
    "    # It returns 1 (win) or 0 (loss), which is stored in the 'results' array.\n",
    "    results[i] = simulate_with_coins(picked_door, theta)\n",
    "\n",
    "# Calculate the cumulative win ratio over time\n",
    "ratios = np.cumsum(results) / (np.arange(1, simulate + 1))\n",
    "# np.cumsum(results): Calculates a running total of wins\n",
    "# np.arange(1, simulate + 1): Creates an array of numbers from 1 to 'simulate'\n",
    "# Dividing cumsum by this array gives the win percentage after each consecutive round\n",
    "ratios = np.cumsum(results) / (np.arange(1, simulate + 1))\n",
    "\n",
    "# Print the final simulated win fraction, the overall win percentage after completing all 'simulate' rounds\n",
    "print(\"We win with a\", ratios[-1], \"fraction of the time!\")"
   ]
  },
  {
   "cell_type": "code",
   "execution_count": null,
   "metadata": {
    "deletable": false,
    "editable": false,
    "nbgrader": {
     "cell_type": "code",
     "checksum": "383be4f3a7800264d21d7775b2a32383",
     "grade": true,
     "grade_id": "cell-3f14ec1383196845",
     "locked": true,
     "points": 1,
     "schema_version": 3,
     "solution": false
    }
   },
   "outputs": [],
   "source": []
  },
  {
   "cell_type": "markdown",
   "metadata": {},
   "source": [
    "Imagine this:\n",
    "\n",
    "- You’re playing a modified version of the Monty Hall game.\n",
    "\n",
    "- You start with £5. Each round costs £1 to play.\n",
    "\n",
    "- If you pick the winning door, you earn £2 (recovering your £1 and gaining a £1 profit). If you lose, you forfeit the £1.\n",
    "\n",
    "- Your strategy: switch doors based on a coin flip. If a random number between 0 and 1 is less than or equal to $\\theta$, you switch; otherwise, you stick with your original choice."
   ]
  },
  {
   "cell_type": "code",
   "execution_count": 22,
   "metadata": {},
   "outputs": [],
   "source": [
    "def reveal_empty_door(doors, winning_door):\n",
    "    options = []\n",
    "    for k in doors:\n",
    "        if k != winning_door:\n",
    "            options.append(k)\n",
    "    return random.choice(options)\n",
    "\n",
    "def simulate_round(picked_door, theta):\n",
    "    \"\"\"\n",
    "    Inputs: picked_door (0 1 or 2), decision of switching the door (\"yes\" or \"no\")\n",
    "    Returns: whether or not we win the prize (1: win, 0: lose)\n",
    "    \"\"\"\n",
    "    doors = [0,1,2]\n",
    "    winning_door = random.randrange(3) # it can be 0, 1, or 2! We don't know the truth yet.\n",
    "    doors.remove(picked_door)\n",
    "    open_door = reveal_empty_door(doors, winning_door)\n",
    "    doors.remove(open_door)\n",
    "    remaining_door = doors[0]\n",
    "    flip = np.random.uniform(0,1)\n",
    "    if flip <= theta:\n",
    "        picked_door = remaining_door\n",
    "\n",
    "    return int(picked_door == winning_door)\n",
    "\n",
    "def simulate_with_coins(picked_door, theta):\n",
    "    \"\"\"\n",
    "    Inputs: picked_door (0 1 or 2), decision of switching the door (\"yes\" or \"no\")\n",
    "    Returns: whether or not we win the prize (1: win, 0: lose)\n",
    "    \"\"\"\n",
    "    doors = [0,1,2]\n",
    "    winning_door = random.randrange(3) # it can be 0, 1, or 2! We don't know the truth yet.\n",
    "    doors.remove(picked_door)\n",
    "    open_door = reveal_empty_door(doors, winning_door)\n",
    "    doors.remove(open_door)\n",
    "    remaining_door = doors[0]\n",
    "    flip = np.random.uniform(0,1)\n",
    "\n",
    "    if flip <= theta:\n",
    "        picked_door = remaining_door\n",
    "\n",
    "    return int(picked_door == winning_door)\n",
    "\n",
    "def survival_probability(theta, num_rounds, num_simulations):\n",
    "    \"\"\"\n",
    "    Simulates the Monty Hall game and estimates the probability of survival.\n",
    "\n",
    "    Args:\n",
    "        theta (float): Probability threshold for switching doors.\n",
    "        num_rounds (int): Number of rounds to simulate.\n",
    "        num_simulations (int): Number of simulation runs.\n",
    "\n",
    "    Returns:\n",
    "        float: Estimated probability of survival.\n",
    "    \"\"\"\n",
    "    survival_count = 0\n",
    "    for _ in range(num_simulations):\n",
    "        money = 5\n",
    "        for _ in range(num_rounds):\n",
    "            money -= 1  # Pay to play\n",
    "            if money <= 0:\n",
    "                break\n",
    "            picked_door = random.randint(0, 2)\n",
    "            if simulate_with_coins(picked_door, theta):\n",
    "                money += 2  # Win £2 (profit of £1)\n",
    "        if money > 0:\n",
    "            survival_count += 1\n",
    "\n",
    "    survival_probability =  survival_count / num_simulations\n",
    "    print(f\"Estimated survival probability: {survival_probability:.4f}\")\n",
    "    return survival_probability\n"
   ]
  },
  {
   "cell_type": "markdown",
   "metadata": {},
   "source": [
    "#### Question 4: Estimate the `survival_probability` when `theta = 0.4`, `num_rounds = 10` and `num_simulations = 10000`"
   ]
  },
  {
   "cell_type": "code",
   "execution_count": 23,
   "metadata": {
    "deletable": false,
    "nbgrader": {
     "cell_type": "code",
     "checksum": "6b13d90af9db284bb0e47285f0d2da7f",
     "grade": false,
     "grade_id": "cell-262307658993030e",
     "locked": false,
     "schema_version": 3,
     "solution": true
    }
   },
   "outputs": [
    {
     "name": "stdout",
     "output_type": "stream",
     "text": [
      "Estimated survival probability: 0.7620\n",
      "Estimated survival probability: 0.7620\n"
     ]
    }
   ],
   "source": [
    "###GRADED\n",
    "\n",
    "# Parameters\n",
    "theta = 0.4 # The probability threshold for switching doors in each round (40%)\n",
    "num_rounds = 10 # number of rounds each 'player' will attempt to complete (a player may run out of money)\n",
    "num_simulations = 10000 # Law of large numbers\n",
    "\n",
    "### YOUR SOLUTION HERE\n",
    "\n",
    "# YOUR CODE HERE\n",
    "#raise NotImplementedError()\n",
    "# Call the 'survival_probability' function (has the logic of the modified game)\n",
    "estimated_survival_prob = survival_probability(theta, num_rounds, num_simulations)\n",
    "# returns the fraction of times a 'player' successfully completed all 'num_rounds' (not loosing all money)\n",
    "\n",
    "# Print the final estimated survival probability (4 decimal for precision)\n",
    "print(f\"Estimated survival probability: {estimated_survival_prob:.4f}\")"
   ]
  },
  {
   "cell_type": "code",
   "execution_count": null,
   "metadata": {
    "deletable": false,
    "editable": false,
    "nbgrader": {
     "cell_type": "code",
     "checksum": "08e76eee14b05505b1793654ed48dc71",
     "grade": true,
     "grade_id": "cell-1410c67ae90e7147",
     "locked": true,
     "points": 1,
     "schema_version": 3,
     "solution": false
    }
   },
   "outputs": [],
   "source": []
  }
 ],
 "metadata": {
  "kernelspec": {
   "display_name": "Python 3 (ipykernel)",
   "language": "python",
   "name": "python3"
  },
  "language_info": {
   "codemirror_mode": {
    "name": "ipython",
    "version": 3
   },
   "file_extension": ".py",
   "mimetype": "text/x-python",
   "name": "python",
   "nbconvert_exporter": "python",
   "pygments_lexer": "ipython3",
   "version": "3.12.8"
  }
 },
 "nbformat": 4,
 "nbformat_minor": 4
}
