{
 "cells": [
  {
   "cell_type": "markdown",
   "id": "a40734c3",
   "metadata": {
    "id": "a40734c3"
   },
   "source": [
    "# Self-study try-it activity 3.1: Running simulations in Python"
   ]
  },
  {
   "cell_type": "markdown",
   "id": "aZkhDyZoK3Uo",
   "metadata": {
    "id": "aZkhDyZoK3Uo"
   },
   "source": [
    "NumPy, short for \"Numerical Python,\" is a library for working with arrays and mathematical operations in Python. It is the foundation of most scientific computing in Python and is crucial for data science, engineering and research applications.\n",
    "\n",
    "NumPy is generally more efficient than Python lists; it runs faster and uses less memory because all elements share the same data type. It supports n-dimensional arrays, which are crucial for handling complex data structures and operations. \n",
    "\n",
    "NumPy also provides a broad range of mathematical functions, including tools for linear algebra, statistics and random number generation."
   ]
  },
  {
   "cell_type": "code",
   "execution_count": 3,
   "id": "a6b48909",
   "metadata": {
    "id": "a6b48909"
   },
   "outputs": [],
   "source": [
    "#importing the library for numpy\n",
    "import numpy as np"
   ]
  },
  {
   "cell_type": "markdown",
   "id": "JGsXa8OCO81Y",
   "metadata": {
    "id": "JGsXa8OCO81Y"
   },
   "source": [
    "This notebook covers the different operations of the NumPy array, including:\n",
    "\n",
    "- Creating a NumPy array\n",
    "\n",
    "- Picking up elements from the NumPy array\n",
    "\n",
    "- Operations in an array\n",
    "\n",
    "- Computing the frequency of occurrence of elements in an array\n",
    "\n",
    "- Appending elements to an array\n",
    "\n",
    "- Creating arrays within specific intervals\n",
    "\n",
    "- Iterating array elements\n",
    "\n",
    "- Encoding values in an array\n",
    "\n",
    "- Reshaping the array in different dimensions"
   ]
  },
  {
   "cell_type": "markdown",
   "id": "97fce0d5",
   "metadata": {
    "id": "97fce0d5"
   },
   "source": [
    "Since this module is about probability in machine learning, most of the examples of NumPy provided in this notebook are coin or dice examples.\n"
   ]
  },
  {
   "cell_type": "markdown",
   "id": "5AWk9mfRSVuP",
   "metadata": {
    "id": "5AWk9mfRSVuP"
   },
   "source": [
    "## Creating NumPy array\n",
    "\n",
    "You can create NumPy arrays using the `np.array()` function."
   ]
  },
  {
   "cell_type": "code",
   "execution_count": 7,
   "id": "wuva247vSktz",
   "metadata": {
    "colab": {
     "base_uri": "https://localhost:8080/"
    },
    "id": "wuva247vSktz",
    "outputId": "8b8a80a8-f31c-4532-ec41-8892bc89f02e"
   },
   "outputs": [
    {
     "name": "stdout",
     "output_type": "stream",
     "text": [
      "One dimensional array is [1 2 3 4 5]\n",
      "Two dimensional array is [[1 2]\n",
      " [3 4]]\n"
     ]
    }
   ],
   "source": [
    "# Create a one-dimensional array\n",
    "arr1 = np.array([1, 2, 3, 4, 5])\n",
    "print(\"One dimensional array is\" , arr1)\n",
    "\n",
    "# Create a two-dimensional array\n",
    "arr2 = np.array([[1, 2], [3, 4]])\n",
    "print(\"Two dimensional array is\", arr2)"
   ]
  },
  {
   "cell_type": "markdown",
   "id": "R9JcFf1fTOcl",
   "metadata": {
    "id": "R9JcFf1fTOcl"
   },
   "source": [
    "### Question 1\n",
    "\n",
    "You throw a die several times and record the outcomes: \"1 - 2 - 1 - 1 - 6 - 5 - 1\". Now, record the values in an array."
   ]
  },
  {
   "cell_type": "code",
   "execution_count": 9,
   "id": "868a2a74",
   "metadata": {
    "colab": {
     "base_uri": "https://localhost:8080/"
    },
    "id": "868a2a74",
    "outputId": "a91a89e8-e609-4f25-d7dd-0c749603f58d"
   },
   "outputs": [
    {
     "name": "stdout",
     "output_type": "stream",
     "text": [
      "The outcome of die thrown several times is given by [1 2 1 1 6 5 1]\n"
     ]
    }
   ],
   "source": [
    "values = np.array([1,2,1,1,6,5,1])\n",
    "print(\"The outcome of die thrown several times is given by\",values)"
   ]
  },
  {
   "cell_type": "markdown",
   "id": "YMSRPdpKrSm4",
   "metadata": {
    "id": "YMSRPdpKrSm4"
   },
   "source": [
    "## Picking up elements from a NumPy array\n",
    "\n",
    "Elements in a NumPy array can be accessed using indexing or slicing:\n",
    "\n",
    "- Indexing allows direct access to individual elements using their index positions. \n",
    "\n",
    "- Slicing enables selection of a range of elements from the array."
   ]
  },
  {
   "cell_type": "code",
   "execution_count": 12,
   "id": "vJ_p6NeCt9yc",
   "metadata": {
    "colab": {
     "base_uri": "https://localhost:8080/"
    },
    "id": "vJ_p6NeCt9yc",
    "outputId": "e71ddd97-e57a-4a45-e0f6-7fdbdef8e197"
   },
   "outputs": [
    {
     "name": "stdout",
     "output_type": "stream",
     "text": [
      "1\n",
      "5\n"
     ]
    }
   ],
   "source": [
    "#The first element of the array is printed by using index 0\n",
    "print(arr1[0])\n",
    "#The last element of the array is printed by using index -1\n",
    "print(arr1[-1])"
   ]
  },
  {
   "cell_type": "code",
   "execution_count": 13,
   "id": "Xtc3tOTrufmE",
   "metadata": {
    "colab": {
     "base_uri": "https://localhost:8080/"
    },
    "id": "Xtc3tOTrufmE",
    "outputId": "840f601d-dd05-4306-b4fb-64cc0653164d"
   },
   "outputs": [
    {
     "name": "stdout",
     "output_type": "stream",
     "text": [
      "2\n"
     ]
    }
   ],
   "source": [
    "#The index elements can be mentioned for a 2D array for selecting array elements\n",
    "print(arr2[0,1])#prints the first row, second column of the array arr2"
   ]
  },
  {
   "cell_type": "code",
   "execution_count": 14,
   "id": "a_Pu6rlqvHQj",
   "metadata": {
    "colab": {
     "base_uri": "https://localhost:8080/"
    },
    "id": "a_Pu6rlqvHQj",
    "outputId": "f425d55a-032a-47e2-9da7-90b0ff8999a3"
   },
   "outputs": [
    {
     "name": "stdout",
     "output_type": "stream",
     "text": [
      "[20 30 40]\n",
      "[10 30 50]\n",
      "[50 40 30 20 10]\n"
     ]
    }
   ],
   "source": [
    "arr = np.array([10, 20, 30, 40, 50])\n",
    "\n",
    "# Select elements from index 1 to index (4-1)\n",
    "print(arr[1:4])\n",
    "# Select every second element\n",
    "print(arr[::2])\n",
    "# Reverse the array\n",
    "print(arr[::-1])"
   ]
  },
  {
   "cell_type": "markdown",
   "id": "SzZt6pKpvusy",
   "metadata": {
    "id": "SzZt6pKpvusy"
   },
   "source": [
    "### Question 2\n",
    "\n",
    "Now suppose you throw a die several times and record the outcomes: \"1 - 2 - 1 - 1 - 6 - 5 - 1 - 3 -4 -6 -1\". Answer the following questions based on the concepts of indexing and slicing."
   ]
  },
  {
   "cell_type": "code",
   "execution_count": 16,
   "id": "674fc1e0",
   "metadata": {
    "id": "674fc1e0"
   },
   "outputs": [],
   "source": [
    "#1. What the the number of elements in the array?\n"
   ]
  },
  {
   "cell_type": "code",
   "execution_count": 17,
   "id": "XhosyQNKwkYn",
   "metadata": {
    "id": "XhosyQNKwkYn"
   },
   "outputs": [],
   "source": [
    "#2.Which is the second last element in the array?\n"
   ]
  },
  {
   "cell_type": "code",
   "execution_count": 18,
   "id": "BsVwDNcQwthx",
   "metadata": {
    "id": "BsVwDNcQwthx"
   },
   "outputs": [],
   "source": [
    "#3.Display the elements from index position 4 to the end of the array?\n"
   ]
  },
  {
   "cell_type": "code",
   "execution_count": 19,
   "id": "jkR7CMrmw8tK",
   "metadata": {
    "id": "jkR7CMrmw8tK"
   },
   "outputs": [],
   "source": [
    "#4. Display the elements from the 2nd position to the 7th position in the array?\n",
    "\n"
   ]
  },
  {
   "cell_type": "code",
   "execution_count": 20,
   "id": "5iIrSNCUxJXS",
   "metadata": {
    "id": "5iIrSNCUxJXS"
   },
   "outputs": [],
   "source": [
    "#5. Display the elements of the array in the reverse order?\n"
   ]
  },
  {
   "cell_type": "markdown",
   "id": "pzp3-wLSx-K5",
   "metadata": {
    "id": "pzp3-wLSx-K5"
   },
   "source": [
    "## Operations in an array\n",
    "\n",
    "These mathematical operations include addition, subtraction, multiplication and division of elements in arrays."
   ]
  },
  {
   "cell_type": "code",
   "execution_count": 22,
   "id": "vrrl3dbmy4uZ",
   "metadata": {
    "colab": {
     "base_uri": "https://localhost:8080/"
    },
    "id": "vrrl3dbmy4uZ",
    "outputId": "05d6492c-efaf-4745-c99e-0442c9cdd8c9"
   },
   "outputs": [
    {
     "name": "stdout",
     "output_type": "stream",
     "text": [
      "The addition of array1 and array1 is  [5 7 9]\n",
      "The result of array1 subtracted from array 2 is  [-3 -3 -3]\n",
      "The result of product of array1 and array2 is  [ 4 10 18]\n",
      "The result of array1 divided by array2 is  [0.25 0.4  0.5 ]\n"
     ]
    }
   ],
   "source": [
    "array1 = np.array([1, 2, 3])\n",
    "array2 = np.array([4, 5, 6])\n",
    "\n",
    "# Addition\n",
    "result_add = np.add(array1, array2)\n",
    "print(\"The addition of array1 and array1 is \", result_add)\n",
    "\n",
    "# Subtraction\n",
    "result_subtract = np.subtract(array1, array2)\n",
    "print(\"The result of array1 subtracted from array 2 is \",result_subtract)\n",
    "\n",
    "# Multiplication\n",
    "result_multiply = np.multiply(array1, array2)\n",
    "print(\"The result of product of array1 and array2 is \",result_multiply)\n",
    "# Division\n",
    "result_divide = np.divide(array1, array2)\n",
    "print(\"The result of array1 divided by array2 is \", result_divide)\n"
   ]
  },
  {
   "cell_type": "markdown",
   "id": "lACiIL-x07z1",
   "metadata": {
    "id": "lACiIL-x07z1"
   },
   "source": [
    "In addition to the above operations, statistical operations like sum, mean, median, mode and standard deviation can also be performed on arrays."
   ]
  },
  {
   "cell_type": "code",
   "execution_count": 24,
   "id": "CwHeBqtU1HZ4",
   "metadata": {
    "colab": {
     "base_uri": "https://localhost:8080/"
    },
    "id": "CwHeBqtU1HZ4",
    "outputId": "3aa2cb2f-eb05-4b02-e110-63ef785516df"
   },
   "outputs": [
    {
     "name": "stdout",
     "output_type": "stream",
     "text": [
      "The mean value of the array is 3.0\n",
      "The median value of the array is 3.0\n",
      "The standard deviation of the array is  1.4142135623730951\n",
      "The sum of the array is  15\n"
     ]
    }
   ],
   "source": [
    "# Create an array\n",
    "arr = np.array([1, 2, 3, 4, 5])\n",
    "\n",
    "# Calculate mean\n",
    "mean = np.mean(arr)\n",
    "print(\"The mean value of the array is\" ,mean)\n",
    "\n",
    "# Calculate median\n",
    "median = np.median(arr)\n",
    "print(\"The median value of the array is\",median)\n",
    "\n",
    "# Calculate standard deviation\n",
    "std_dev = np.std(arr)\n",
    "print(\"The standard deviation of the array is \",std_dev)\n",
    "\n",
    "#Calculate sum\n",
    "sum = np.sum(arr)\n",
    "print(\"The sum of the array is \",sum)\n"
   ]
  },
  {
   "cell_type": "markdown",
   "id": "JFQ0vQeg2Qar",
   "metadata": {
    "id": "JFQ0vQeg2Qar"
   },
   "source": [
    "### Question 3\n",
    "\n",
    "Imagine you throw two dice ten times and get the following readings:\n",
    "\n",
    "- Dice 1 : 1 2 3 4 5 6 5 4 3 2\n",
    "\n",
    "- Dice 2 : 1 1 2 2 4 5 6 3 2 1\n",
    "\n",
    "Now, answer the following questions."
   ]
  },
  {
   "cell_type": "code",
   "execution_count": 26,
   "id": "d0b4b02b",
   "metadata": {
    "id": "d0b4b02b"
   },
   "outputs": [],
   "source": [
    "#1. Calculate the sum of each roll by adding corresponding elements from both arrays.\n"
   ]
  },
  {
   "cell_type": "code",
   "execution_count": 27,
   "id": "TAd02EP93cj7",
   "metadata": {
    "id": "TAd02EP93cj7"
   },
   "outputs": [],
   "source": [
    "#2. Calculate the average reading for each die over the 10 rolls.\n"
   ]
  },
  {
   "cell_type": "code",
   "execution_count": 28,
   "id": "21nHFP793t_Q",
   "metadata": {
    "id": "21nHFP793t_Q"
   },
   "outputs": [],
   "source": [
    "#3. Determine the median of the readings for each dice1 and dice2.\n"
   ]
  },
  {
   "cell_type": "code",
   "execution_count": 29,
   "id": "1jK-i1qA4MwH",
   "metadata": {
    "id": "1jK-i1qA4MwH"
   },
   "outputs": [],
   "source": [
    "#4. Multiply the readings of the two dice for each roll.\n"
   ]
  },
  {
   "cell_type": "code",
   "execution_count": 30,
   "id": "-gRI2zayR9YS",
   "metadata": {
    "id": "-gRI2zayR9YS"
   },
   "outputs": [],
   "source": [
    "#For a 2D array find out the mean for each row.\n",
    "\n"
   ]
  },
  {
   "cell_type": "markdown",
   "id": "OiFVwcwO47nN",
   "metadata": {
    "id": "OiFVwcwO47nN"
   },
   "source": [
    "## Computing the frequency of occurrence of elements in an array\n",
    "\n",
    "The frequency of occurrence of elements can be computed using `np.unique` function."
   ]
  },
  {
   "cell_type": "code",
   "execution_count": 32,
   "id": "945cf59a",
   "metadata": {
    "colab": {
     "base_uri": "https://localhost:8080/"
    },
    "id": "945cf59a",
    "outputId": "7dc12607-b5c6-40a3-a258-c356c69378f9"
   },
   "outputs": [
    {
     "data": {
      "text/plain": [
       "{1: 5, 2: 1, 3: 1, 4: 1, 5: 1, 6: 2}"
      ]
     },
     "execution_count": 32,
     "metadata": {},
     "output_type": "execute_result"
    }
   ],
   "source": [
    "values = np.array([1,2,1,1,6,5,1,3,4,6,1])\n",
    "unique, counts = np.unique(values, return_counts=True)\n",
    "dict(zip(unique, counts))"
   ]
  },
  {
   "cell_type": "code",
   "execution_count": 33,
   "id": "CJwxWVF85vkF",
   "metadata": {
    "id": "CJwxWVF85vkF"
   },
   "outputs": [],
   "source": [
    "#For dice 1 what is the frequency of occurrence of every element?\n"
   ]
  },
  {
   "cell_type": "code",
   "execution_count": 34,
   "id": "_C8Y6R4K-GIE",
   "metadata": {
    "id": "_C8Y6R4K-GIE"
   },
   "outputs": [],
   "source": [
    "#You suspect that dice1 is not a fair dice.\n",
    "#Estimate the occurrence of each element and display the output in the form of a graph to prove your view\n",
    "\n"
   ]
  },
  {
   "cell_type": "markdown",
   "id": "qOgN_1hv8goG",
   "metadata": {
    "id": "qOgN_1hv8goG"
   },
   "source": [
    "## Appending elements to an array\n",
    "\n",
    "The `np.append()` function allows you to add elements to the end of an array. It does not modify the original array but returns a new array with the appended elements."
   ]
  },
  {
   "cell_type": "code",
   "execution_count": 36,
   "id": "88e8b848",
   "metadata": {
    "colab": {
     "base_uri": "https://localhost:8080/"
    },
    "id": "88e8b848",
    "outputId": "25204130-e15c-4b0e-80bf-e2cec068bb1b"
   },
   "outputs": [
    {
     "name": "stdout",
     "output_type": "stream",
     "text": [
      "The appended array is  [1 2 3 2 4 3]\n"
     ]
    }
   ],
   "source": [
    "array3 = np.array([1,2,3])\n",
    "array3 = np.append(array3, [2,4,3])\n",
    "print(\"The appended array is \",array3)"
   ]
  },
  {
   "cell_type": "code",
   "execution_count": 37,
   "id": "RPC7-3hj9jhF",
   "metadata": {
    "id": "RPC7-3hj9jhF"
   },
   "outputs": [],
   "source": [
    "#You through dice1 3 more times and get elements [2,3,3]. What is the list of numbers thrown by dice 1?\n"
   ]
  },
  {
   "cell_type": "markdown",
   "id": "m1T_NsKM9hb4",
   "metadata": {
    "id": "m1T_NsKM9hb4"
   },
   "source": [
    "## Creating arrays within specific intervals\n",
    "\n",
    "Use the `np.arange()` function in NumPy to create arrays with evenly spaced values within a specified interval. It is similar to the Python's `built-in range()` function. However, it works with both integers and floating-point numbers and returns a NumPy array.\n",
    "\n",
    "The function is: `numpy.arange([start, ] stop, [step, ] dtype=None)`,\n",
    "\n",
    "where:\n",
    "\n",
    "- `start` is the starting value of the interval.\n",
    "\n",
    "- `stop` is the end value of the interval.\n",
    "\n",
    "- `step` is the spacing between values with a default 1.\n",
    "\n",
    "- `dtype` is the data type of the output array."
   ]
  },
  {
   "cell_type": "code",
   "execution_count": 39,
   "id": "H2upL2WQImBr",
   "metadata": {
    "colab": {
     "base_uri": "https://localhost:8080/"
    },
    "id": "H2upL2WQImBr",
    "outputId": "d002f56d-1135-4a43-fab9-47cc8c52c419"
   },
   "outputs": [
    {
     "name": "stdout",
     "output_type": "stream",
     "text": [
      "The array created is given by [5 6 7 8 9]\n"
     ]
    }
   ],
   "source": [
    "arr_arange = np.arange(5, 10)\n",
    "print(\"The array created is given by\",arr_arange)\n"
   ]
  },
  {
   "cell_type": "code",
   "execution_count": 40,
   "id": "567d5ed6",
   "metadata": {
    "id": "567d5ed6"
   },
   "outputs": [],
   "source": [
    "#List all the two-digit positive integers from 10 to 100\n"
   ]
  },
  {
   "cell_type": "code",
   "execution_count": 41,
   "id": "3af71ba0",
   "metadata": {
    "id": "3af71ba0"
   },
   "outputs": [],
   "source": [
    "#How many numbers are there in the sequence S = 1,4,7,.....1005 for k?\n"
   ]
  },
  {
   "cell_type": "markdown",
   "id": "0niXc2U9J2d5",
   "metadata": {
    "id": "0niXc2U9J2d5"
   },
   "source": [
    "## Iterating array elements\n",
    "\n",
    "You can iterate over elements in a NumPy array using basic Python loops or specialised NumPy functions like `nditer()` and `ndenumerate()`. Let's explore each method with examples."
   ]
  },
  {
   "cell_type": "code",
   "execution_count": 43,
   "id": "NhER8SgbLIJ1",
   "metadata": {
    "colab": {
     "base_uri": "https://localhost:8080/"
    },
    "id": "NhER8SgbLIJ1",
    "outputId": "6c7cb8f5-a6bb-4172-fdf1-7b80dc329bf3"
   },
   "outputs": [
    {
     "name": "stdout",
     "output_type": "stream",
     "text": [
      "1\n",
      "2\n",
      "3\n",
      "4\n",
      "5\n"
     ]
    }
   ],
   "source": [
    "arr1_iter = np.array([1, 2, 3, 4, 5])\n",
    "\n",
    "for element in arr:\n",
    "    print(element)\n"
   ]
  },
  {
   "cell_type": "code",
   "execution_count": 44,
   "id": "s5wSKTP3LSV_",
   "metadata": {
    "colab": {
     "base_uri": "https://localhost:8080/"
    },
    "id": "s5wSKTP3LSV_",
    "outputId": "b317cdb4-2b4b-40dc-d56b-ac0af3a72a7f"
   },
   "outputs": [
    {
     "name": "stdout",
     "output_type": "stream",
     "text": [
      "1\n",
      "2\n",
      "3\n",
      "4\n",
      "5\n",
      "6\n"
     ]
    }
   ],
   "source": [
    "\n",
    "arr2_iter = np.array([[1, 2, 3], [4, 5, 6]])\n",
    "\n",
    "for row in arr2_iter:\n",
    "    for element in row:\n",
    "        print(element)\n"
   ]
  },
  {
   "cell_type": "code",
   "execution_count": 45,
   "id": "4wIqAV3mLqUI",
   "metadata": {
    "colab": {
     "base_uri": "https://localhost:8080/"
    },
    "id": "4wIqAV3mLqUI",
    "outputId": "984f6ff1-d12f-4e1f-e46d-5bbe36fd0bb3"
   },
   "outputs": [
    {
     "name": "stdout",
     "output_type": "stream",
     "text": [
      "1\n",
      "2\n",
      "3\n",
      "4\n",
      "5\n",
      "6\n",
      "7\n",
      "8\n",
      "9\n"
     ]
    }
   ],
   "source": [
    "arr3_iter = np.array([[1, 2, 3], [4, 5, 6],[7,8,9]])\n",
    "\n",
    "# Iterate over each element using nditer\n",
    "for element in np.nditer(arr3_iter):\n",
    "    print(element)\n"
   ]
  },
  {
   "cell_type": "code",
   "execution_count": 46,
   "id": "3u1Oj5gvL-Z_",
   "metadata": {
    "colab": {
     "base_uri": "https://localhost:8080/"
    },
    "id": "3u1Oj5gvL-Z_",
    "outputId": "1ca4afc4-148b-403b-d601-533b0b594ce9"
   },
   "outputs": [
    {
     "name": "stdout",
     "output_type": "stream",
     "text": [
      "Index: (0, 0), Value: 1\n",
      "Index: (0, 1), Value: 2\n",
      "Index: (0, 2), Value: 3\n",
      "Index: (1, 0), Value: 4\n",
      "Index: (1, 1), Value: 5\n",
      "Index: (1, 2), Value: 6\n"
     ]
    }
   ],
   "source": [
    "#If both index and values are required enumerate is used\n",
    "arr2_enumerate = np.array([[1, 2, 3], [4, 5, 6]])\n",
    "\n",
    "for idx, element in np.ndenumerate(arr2_enumerate):\n",
    "    print(f\"Index: {idx}, Value: {element}\")\n"
   ]
  },
  {
   "cell_type": "code",
   "execution_count": 47,
   "id": "9lUKMD87MxBe",
   "metadata": {
    "id": "9lUKMD87MxBe"
   },
   "outputs": [],
   "source": [
    "#Suppose you have a 2D array representing the outcomes of rolling two dice multiple times.\n",
    "#Each row represents a roll, and the columns represent the outcomes of the first and second dice, respectively.\n",
    "#Iterate over the array and print the index and value of each outcome.\n",
    "#Calculate the total sum of all dice rolls.\n",
    "dice_outcomes = np.array([\n",
    "    [1, 2],\n",
    "    [3, 4],\n",
    "    [5, 6],\n",
    "    [2, 5],\n",
    "    [6, 3]\n",
    "])\n"
   ]
  },
  {
   "cell_type": "markdown",
   "id": "3c068099",
   "metadata": {
    "id": "3c068099"
   },
   "source": [
    "## Encoding values in an array\n",
    "\n",
    "To encode values in a NumPy array, you can use techniques like one-hot encoding or string encoding depending on the type of data and the purpose:\n",
    "\n",
    "- One-hot encoding is commonly used in machine learning to convert categorical data into a binary matrix.\n",
    "\n",
    "- To encode or decode strings, use string encoding."
   ]
  },
  {
   "cell_type": "code",
   "execution_count": 49,
   "id": "U4bvsbRZO4-m",
   "metadata": {
    "colab": {
     "base_uri": "https://localhost:8080/"
    },
    "id": "U4bvsbRZO4-m",
    "outputId": "0466ffe0-221a-4bde-e47c-6fd5cb8b204c"
   },
   "outputs": [
    {
     "name": "stdout",
     "output_type": "stream",
     "text": [
      "Original Genders: ['Male' 'Female' 'Male' 'Female' 'Male']\n",
      "Encoded Genders: [0 1 0 1 0]\n"
     ]
    }
   ],
   "source": [
    "genders = np.array(['Male', 'Female', 'Male', 'Female', 'Male'])\n",
    "\n",
    "encoded_genders = np.where(genders == 'Male', 0, 1)\n",
    "# Male is encoded to 0 and Female to 1\n",
    "print(\"Original Genders:\", genders)\n",
    "print(\"Encoded Genders:\", encoded_genders)\n"
   ]
  },
  {
   "cell_type": "markdown",
   "id": "b88d8dec",
   "metadata": {
    "id": "b88d8dec"
   },
   "source": [
    "- You record a coin-throwing experiment 10 times and obtain 'H-T-H-H-H-T-T-T-T-H'"
   ]
  },
  {
   "cell_type": "code",
   "execution_count": 51,
   "id": "03528bb6",
   "metadata": {
    "id": "03528bb6"
   },
   "outputs": [],
   "source": [
    "#A coin is thrown 10 times and the output is noted in an array.\n",
    "#Encode this information to a numeric array of '0' and '1'\n",
    "#Use may use 'H' is 1, and 'T' is 0.\n",
    "coin_throw = np.array(['H','T', 'H','H','H','T','T','T','T','H'])\n"
   ]
  },
  {
   "cell_type": "markdown",
   "id": "25fddc3e",
   "metadata": {
    "id": "25fddc3e"
   },
   "source": [
    "## Reshaping the array in different dimensions\n",
    "\n",
    "To reshape an array using NumPy, you can use the `np.reshape()` function. This function allows you to change the shape of an array without altering its data."
   ]
  },
  {
   "cell_type": "code",
   "execution_count": 53,
   "id": "MYSTqBf5V124",
   "metadata": {
    "colab": {
     "base_uri": "https://localhost:8080/"
    },
    "id": "MYSTqBf5V124",
    "outputId": "b8996cce-3360-444e-9f98-f3aafcc03395"
   },
   "outputs": [
    {
     "name": "stdout",
     "output_type": "stream",
     "text": [
      "[[1 2 3]\n",
      " [4 5 6]]\n"
     ]
    }
   ],
   "source": [
    "arr_reshape = np.array([1, 2, 3, 4, 5, 6])\n",
    "\n",
    "# Reshape the array into a 2D array with 2 rows and 3 columns\n",
    "new_arr = arr_reshape.reshape(2, 3)\n",
    "\n",
    "print(new_arr)\n"
   ]
  },
  {
   "cell_type": "code",
   "execution_count": 54,
   "id": "1cf4c946",
   "metadata": {
    "id": "1cf4c946"
   },
   "outputs": [],
   "source": [
    "# A fair coin is tossed by two players and stored in an array.\n",
    "#Each player played 3 times in a row.\n",
    "#Show the  values played by each player\n"
   ]
  },
  {
   "cell_type": "code",
   "execution_count": null,
   "id": "Th201OmGWU9D",
   "metadata": {
    "id": "Th201OmGWU9D"
   },
   "outputs": [],
   "source": []
  }
 ],
 "metadata": {
  "colab": {
   "provenance": []
  },
  "kernelspec": {
   "display_name": "Python 3 (ipykernel)",
   "language": "python",
   "name": "python3"
  },
  "language_info": {
   "codemirror_mode": {
    "name": "ipython",
    "version": 3
   },
   "file_extension": ".py",
   "mimetype": "text/x-python",
   "name": "python",
   "nbconvert_exporter": "python",
   "pygments_lexer": "ipython3",
   "version": "3.11.9"
  }
 },
 "nbformat": 4,
 "nbformat_minor": 5
}
