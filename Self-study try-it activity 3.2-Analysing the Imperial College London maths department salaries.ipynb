{
 "cells": [
  {
   "cell_type": "markdown",
   "metadata": {
    "id": "Y6cQmhPA1YPb"
   },
   "source": [
    "# Self-study try-it activity 3.2: Analysing the Imperial College London maths department salaries"
   ]
  },
  {
   "cell_type": "markdown",
   "metadata": {
    "id": "F3joqwgL1qBn"
   },
   "source": [
    "Manipulating normal variables in probability theory involves understanding how changes to the mean and variance affect the distribution. Some key manipulations are:\n",
    "\n",
    "- Shifting the mean\n",
    "\n",
    "- Scaling the variance\n",
    "\n",
    "- Combining normal variables\n",
    "\n",
    "- Standardising"
   ]
  },
  {
   "cell_type": "markdown",
   "metadata": {
    "id": "Z-mcv1Qr4WLP"
   },
   "source": [
    "## Shifting the mean\n",
    "\n",
    "If you add a constant 'c' to a normal variable 'X' with mean 'μ' and variance $σ^2$, the new mean becomes 'μ+c', but the variance remains unchanged. In continuation with the video, if the salaries of all staff are increased by £12,000, what is the new mean (µ') and new standard deviation (σ')?"
   ]
  },
  {
   "cell_type": "markdown",
   "metadata": {
    "id": "JdYGTzzD51xm"
   },
   "source": [
    "**Let's review the mathematical solution.**\n",
    "\n",
    "The salaries at Imperial College London's Maths department are normally distributed with a mean(μ) = £70000 and a standard deviation (σ) = 30000. If everyone in the department gets a £12000 raise, what is the new mean and standard deviation?\n",
    "\n",
    "When everyone gets a £12,000 raise, the mean of the salaries increases by £12,000. Therefore, the new mean is:\n",
    "\n",
    "    μ′ = μ + 12000 = 70000 + 12000 = 82000\n",
    "\n",
    "Adding a constant to all values shifts the distribution but does not change its spread. Therefore, the standard deviation remains unchanged:\n",
    "\n",
    "    σ′ = σ = 30000\n",
    "\n",
    "Let's visualise this calculation."
   ]
  },
  {
   "cell_type": "markdown",
   "metadata": {
    "id": "dZLn-a4p_yzC"
   },
   "source": [
    "Hint:\n",
    "\n",
    "The x-axis uses the `np.linspace` function to create an array of evenly spaced values over a specified range (say 100). The start value is  **mean-original -3*std-dev-original**, and the end value is  **mean-original + 3 * std-dev-original** . The `3 std-dev` is chosen on both sides because, in a normal distribution, 99.7% of data points fall within three STD of the mean.  \n",
    "\n",
    "The y-axis is computed using probability density function(PDF):\n",
    "\n",
    "$$\n",
    "f(x) = \\frac{1}{\\sqrt{2\\pi \\sigma^2}} \\exp\\left( - \\frac{(x - \\mu)^2}{2\\sigma^2} \\right)\n",
    "$$\n"
   ]
  },
  {
   "cell_type": "code",
   "execution_count": null,
   "metadata": {
    "id": "_4oC49iPWmuU"
   },
   "outputs": [],
   "source": [
    "#import the necessary libraries\n",
    "import numpy as np\n",
    "import matplotlib.pyplot as plt\n"
   ]
  },
  {
   "cell_type": "code",
   "execution_count": null,
   "metadata": {
    "colab": {
     "base_uri": "https://localhost:8080/",
     "height": 633
    },
    "id": "8ipNdLwiRY1t",
    "outputId": "d3bdc6fb-51eb-4be6-ea70-cff6e9267239"
   },
   "outputs": [],
   "source": [
    "\n",
    "# Original parameters\n",
    "mean_original = 70000\n",
    "std_dev_original = 30000\n",
    "\n",
    "# New parameters after the raise\n",
    "mean_new = mean_original + 12000\n",
    "std_dev_new = std_dev_original\n",
    "\n",
    "# Generate x values for plotting\n",
    "x_original = np.linspace(mean_original - 3*std_dev_original, mean_original + 3*std_dev_original, 100)\n",
    "x_new = np.linspace(mean_new - 3*std_dev_new, mean_new + 3*std_dev_new, 100)\n",
    "\n",
    "# Calculate y values (probability density)\n",
    "y_original = np.exp(-((x_original - mean_original) / std_dev_original)**2 / 2) / (std_dev_original * np.sqrt(2 * np.pi))\n",
    "y_new = np.exp(-((x_new - mean_new) / std_dev_new)**2 / 2) / (std_dev_new * np.sqrt(2 * np.pi))\n",
    "\n",
    "# Normalize y values to ensure area under the curve is 1 (not strictly necessary for visualization)\n",
    "# y_original = y_original / np.sum(y_original)\n",
    "# y_new = y_new / np.sum(y_new)\n",
    "\n",
    "# Plotting\n",
    "plt.figure(figsize=(10, 6))\n",
    "plt.plot(x_original, y_original, label='Original Distribution')\n",
    "plt.plot(x_new, y_new, label='Distribution After Raise')\n",
    "plt.title('Effect of £12,000 Raise on Salary Distribution')\n",
    "plt.xlabel('Salary (£)')\n",
    "plt.ylabel('Probability Density')\n",
    "plt.legend()\n",
    "plt.grid(True)\n",
    "plt.show()\n",
    "\n",
    "print(f\"Original Mean: £{mean_original}\")\n",
    "print(f\"Original Standard Deviation: £{std_dev_original}\")\n",
    "print(f\"New Mean: £{mean_new}\")\n",
    "print(f\"New Standard Deviation: £{std_dev_new}\")\n"
   ]
  },
  {
   "cell_type": "markdown",
   "metadata": {
    "id": "U6QlBBo6FMvS"
   },
   "source": [
    "## Scaling the variance\n",
    "\n",
    "If you multiply a normal variable 'X' by a constant 'a', the new mean becomes 'aμ' and the new variance becomes $a^2 \\sigma^2$. In continuation with the video, if the salaries of all staff are doubled, what would be the impact on new mean and new standard deviation?\n",
    "\n"
   ]
  },
  {
   "cell_type": "markdown",
   "metadata": {
    "id": "ZNpedBoOJzB_"
   },
   "source": [
    "**Let's review the mathematical solution.** \n",
    "\n",
    "The salaries at Imperial College London's Maths department are normally distributed with a mean(μ) = £70000 and standard deviation (σ) = 30000. If everyone in the department gets their salary doubled, what is the new mean and standard deviation?\n",
    "\n",
    "When each salary is doubled, the new mean and standard deviation are affected as follows:\n",
    "\n",
    "    New mean(μ') doubles and is calculated as: $μ'$ = 2 x μ = 2 * 70000 = 140000\n",
    "\n",
    "    New standard deviation(σ') = 2 * σ = 2 * 30000 = 60000\n",
    "\n",
    "Let's visualise this calculation.\n",
    "\n",
    " HINT: Provide the scaling factor and compute the new mean and new standard deviation and use it for plotting."
   ]
  },
  {
   "cell_type": "code",
   "execution_count": null,
   "metadata": {
    "id": "T5-rZm2GM0ol"
   },
   "outputs": [],
   "source": [
    "# Original parameters\n",
    "mean_original = 70000\n",
    "std_dev_original = 30000\n",
    "\n",
    "# Scaling factor\n",
    "scaling_factor = 2\n",
    "#Compute the mean, standard deviation and graph\n"
   ]
  },
  {
   "cell_type": "markdown",
   "metadata": {
    "id": "kpZO-qULNgzu"
   },
   "source": [
    "## Combining normal variables\n",
    "\n",
    "If 'X1' and 'X2' are independent normal variables with means ('µ1') and ('µ2') and standard deviations ('σ1') and ('σ2') then the sum of independent normal variables 'X1 + X2' will have a mean given by 'µ1 + µ2' and standard deviation given by 'σ1 + σ2'.\n",
    "\n",
    "In continuation with the video, if the salaries of all staff in the maths department and English department are added, then what are the new mean (µ') and new standard deviation (σ')?"
   ]
  },
  {
   "cell_type": "code",
   "execution_count": null,
   "metadata": {
    "id": "cHpFiqqNQzfa"
   },
   "outputs": [],
   "source": [
    "# Original parameters\n",
    "mean_maths = 70000\n",
    "mean_english = 50000\n",
    "std_dev_maths = 30000\n",
    "std_dev_english = 20000\n",
    "\n",
    "#Compute mean, standard deviation and graph\n",
    "\n"
   ]
  },
  {
   "cell_type": "markdown",
   "metadata": {
    "id": "82blTEsoSczg"
   },
   "source": [
    "## Standardising\n",
    "\n",
    "Standardisation, also known as z-score transformation, is used to standardise a normal variable 'X' with mean 'µ' and standard deviation 'σ' into a standard normal variable 'Z' with mean 0 and variance 1 using\n",
    "\n",
    "$$\n",
    "z = \\frac{x - \\mu}{\\sigma}.\n",
    "$$"
   ]
  },
  {
   "cell_type": "markdown",
   "metadata": {
    "id": "sZCLP8ZZT_qF"
   },
   "source": [
    "In continuation with the video, the salaries at Imperial College London's Maths department are normally distributed with a mean(μ) = £70000 and standard deviation (σ) = 30000. The z-score value of salary for a person with a salary £60000 is as follows:\n",
    "\n",
    "    z-score = (60000-70000)/30000 = -0.334"
   ]
  },
  {
   "cell_type": "code",
   "execution_count": null,
   "metadata": {
    "id": "DYknJpkBVvqM"
   },
   "outputs": [],
   "source": [
    "# Original parameters\n",
    "mean_original = 70000\n",
    "std_dev_original = 30000\n",
    "\n",
    "# Range of values for which to calculate Z-scores\n",
    "value_range = np.arange(50000, 90001, 1000)  # Increment by £1,000\n",
    "\n",
    "#compute mean, standard deviation and graph"
   ]
  },
  {
   "cell_type": "code",
   "execution_count": null,
   "metadata": {},
   "outputs": [],
   "source": []
  }
 ],
 "metadata": {
  "colab": {
   "provenance": []
  },
  "kernelspec": {
   "display_name": "Python 3 (ipykernel)",
   "language": "python",
   "name": "python3"
  },
  "language_info": {
   "codemirror_mode": {
    "name": "ipython",
    "version": 3
   },
   "file_extension": ".py",
   "mimetype": "text/x-python",
   "name": "python",
   "nbconvert_exporter": "python",
   "pygments_lexer": "ipython3",
   "version": "3.11.9"
  }
 },
 "nbformat": 4,
 "nbformat_minor": 4
}
