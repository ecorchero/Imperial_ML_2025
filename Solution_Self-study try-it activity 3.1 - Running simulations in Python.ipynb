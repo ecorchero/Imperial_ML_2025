{
 "cells": [
  {
   "cell_type": "markdown",
   "id": "a40734c3",
   "metadata": {
    "id": "a40734c3"
   },
   "source": [
    "# Self-study try-it activity 3.1: Running simulations in Python"
   ]
  },
  {
   "cell_type": "markdown",
   "id": "aZkhDyZoK3Uo",
   "metadata": {
    "id": "aZkhDyZoK3Uo"
   },
   "source": [
    "NumPy, short for \"Numerical Python,\" is a library for working with arrays and mathematical operations in Python. It is the foundation of most scientific computing in Python and is crucial for data science, engineering and research applications.\n",
    "\n",
    "NumPy is generally more efficient than Python lists; it runs faster and uses less memory because all elements share the same data type. It supports n-dimensional arrays, which are crucial for handling complex data structures and operations. \n",
    "\n",
    "NumPy also provides a broad range of mathematical functions, including tools for linear algebra, statistics and random number generation."
   ]
  },
  {
   "cell_type": "code",
   "execution_count": 3,
   "id": "a6b48909",
   "metadata": {
    "id": "a6b48909"
   },
   "outputs": [],
   "source": [
    "#importing the library for numpy\n",
    "import numpy as np"
   ]
  },
  {
   "cell_type": "markdown",
   "id": "JGsXa8OCO81Y",
   "metadata": {
    "id": "JGsXa8OCO81Y"
   },
   "source": [
    "This notebook covers the different operations of the NumPy array, including:\n",
    "\n",
    "- Creating a NumPy array\n",
    "\n",
    "- Picking up elements from the NumPy array\n",
    "\n",
    "- Operations in an array\n",
    "\n",
    "- Computing the frequency of occurrence of elements in an array\n",
    "\n",
    "- Appending elements to an array\n",
    "\n",
    "- Creating arrays within specific intervals\n",
    "\n",
    "- Iterating array elements\n",
    "\n",
    "- Encoding values in an array\n",
    "\n",
    "- Reshaping the array in different dimensions"
   ]
  },
  {
   "cell_type": "markdown",
   "id": "97fce0d5",
   "metadata": {
    "id": "97fce0d5"
   },
   "source": [
    "Since this module is about probability in machine learning, most of the examples of NumPy provided in this notebook are coin or dice examples.\n"
   ]
  },
  {
   "cell_type": "markdown",
   "id": "5AWk9mfRSVuP",
   "metadata": {
    "id": "5AWk9mfRSVuP"
   },
   "source": [
    "## Creating NumPy array\n",
    "\n",
    "You can create NumPy arrays using the `np.array()` function."
   ]
  },
  {
   "cell_type": "code",
   "execution_count": 7,
   "id": "wuva247vSktz",
   "metadata": {
    "colab": {
     "base_uri": "https://localhost:8080/"
    },
    "id": "wuva247vSktz",
    "outputId": "ff3e043d-3b46-4501-fb9f-a8eb44b2554b"
   },
   "outputs": [
    {
     "name": "stdout",
     "output_type": "stream",
     "text": [
      "One dimensional array is [1 2 3 4 5]\n",
      "Two dimensional array is [[1 2]\n",
      " [3 4]]\n"
     ]
    }
   ],
   "source": [
    "# Create a one-dimensional array\n",
    "arr1 = np.array([1, 2, 3, 4, 5])\n",
    "print(\"One dimensional array is\" , arr1)\n",
    "\n",
    "# Create a two-dimensional array\n",
    "arr2 = np.array([[1, 2], [3, 4]])\n",
    "print(\"Two dimensional array is\", arr2)"
   ]
  },
  {
   "cell_type": "markdown",
   "id": "R9JcFf1fTOcl",
   "metadata": {
    "id": "R9JcFf1fTOcl"
   },
   "source": [
    "### Question 1\n",
    "\n",
    "You throw a die several times and record the outcomes: \"1 - 2 - 1 - 1 - 6 - 5 - 1\". Now, record the values in an array."
   ]
  },
  {
   "cell_type": "code",
   "execution_count": 9,
   "id": "868a2a74",
   "metadata": {
    "colab": {
     "base_uri": "https://localhost:8080/"
    },
    "id": "868a2a74",
    "outputId": "2cc2c24d-7b29-474c-96f6-e1160919ec72"
   },
   "outputs": [
    {
     "name": "stdout",
     "output_type": "stream",
     "text": [
      "The outcome of die thrown several times is given by [1 2 1 1 6 5 1]\n"
     ]
    }
   ],
   "source": [
    "values = np.array([1,2,1,1,6,5,1])\n",
    "print(\"The outcome of die thrown several times is given by\",values)"
   ]
  },
  {
   "cell_type": "markdown",
   "id": "YMSRPdpKrSm4",
   "metadata": {
    "id": "YMSRPdpKrSm4"
   },
   "source": [
    "## Picking up elements from a NumPy array\n",
    "\n",
    "Elements in a NumPy array can be accessed using indexing or slicing:\n",
    "\n",
    "- Indexing allows direct access to individual elements using their index positions. \n",
    "\n",
    "- Slicing enables selection of a range of elements from the array."
   ]
  },
  {
   "cell_type": "code",
   "execution_count": 12,
   "id": "vJ_p6NeCt9yc",
   "metadata": {
    "colab": {
     "base_uri": "https://localhost:8080/"
    },
    "id": "vJ_p6NeCt9yc",
    "outputId": "2d935160-e6f5-4123-dc92-ed098d40848d"
   },
   "outputs": [
    {
     "name": "stdout",
     "output_type": "stream",
     "text": [
      "1\n",
      "5\n"
     ]
    }
   ],
   "source": [
    "#The first element of the array is printed by using index 0\n",
    "print(arr1[0])\n",
    "#The last element of the array is printed by using index -1\n",
    "print(arr1[-1])"
   ]
  },
  {
   "cell_type": "code",
   "execution_count": 13,
   "id": "Xtc3tOTrufmE",
   "metadata": {
    "colab": {
     "base_uri": "https://localhost:8080/"
    },
    "id": "Xtc3tOTrufmE",
    "outputId": "83cc729a-1f8d-451a-e4a0-aa3f69cc0a06"
   },
   "outputs": [
    {
     "name": "stdout",
     "output_type": "stream",
     "text": [
      "2\n"
     ]
    }
   ],
   "source": [
    "#The index elements can be mentioned for a 2D array for selecting array elements\n",
    "print(arr2[0,1])#prints the first row, second column of the array arr2"
   ]
  },
  {
   "cell_type": "code",
   "execution_count": 14,
   "id": "a_Pu6rlqvHQj",
   "metadata": {
    "colab": {
     "base_uri": "https://localhost:8080/"
    },
    "id": "a_Pu6rlqvHQj",
    "outputId": "febc4757-8a72-44fb-c1ab-ead78c9461e5"
   },
   "outputs": [
    {
     "name": "stdout",
     "output_type": "stream",
     "text": [
      "[20 30 40]\n",
      "[10 30 50]\n",
      "[50 40 30 20 10]\n"
     ]
    }
   ],
   "source": [
    "arr = np.array([10, 20, 30, 40, 50])\n",
    "\n",
    "# Select elements from index 1 to index (4-1)\n",
    "print(arr[1:4])\n",
    "# Select every second element\n",
    "print(arr[::2])\n",
    "# Reverse the array\n",
    "print(arr[::-1])"
   ]
  },
  {
   "cell_type": "markdown",
   "id": "SzZt6pKpvusy",
   "metadata": {
    "id": "SzZt6pKpvusy"
   },
   "source": [
    "### Question 2\n",
    "\n",
    "Now suppose you throw a die several times and record the outcomes: \"1 - 2 - 1 - 1 - 6 - 5 - 1 - 3 -4 -6 -1\". Answer the following questions based on the concepts of indexing and slicing."
   ]
  },
  {
   "cell_type": "code",
   "execution_count": 16,
   "id": "674fc1e0",
   "metadata": {
    "colab": {
     "base_uri": "https://localhost:8080/"
    },
    "id": "674fc1e0",
    "outputId": "ab33efc7-816f-4ee7-89b7-1f1d4e5bad3c"
   },
   "outputs": [
    {
     "name": "stdout",
     "output_type": "stream",
     "text": [
      "The number of elements in the array is 11\n"
     ]
    }
   ],
   "source": [
    "#1. What is the number of elements in the array?\n",
    "dice = None\n",
    "dice = np.array([1,2,1,1,6,5,1,3,4,6,1])\n",
    "print(\"The number of elements in the array is\", len(dice))"
   ]
  },
  {
   "cell_type": "code",
   "execution_count": 17,
   "id": "XhosyQNKwkYn",
   "metadata": {
    "colab": {
     "base_uri": "https://localhost:8080/"
    },
    "id": "XhosyQNKwkYn",
    "outputId": "31937402-d3ee-4315-98f0-a67f1a91dab7"
   },
   "outputs": [
    {
     "name": "stdout",
     "output_type": "stream",
     "text": [
      "The second last element in the array is 6\n"
     ]
    }
   ],
   "source": [
    "#2. Which is the second last element in the array?\n",
    "print(\"The second last element in the array is\", dice[-2])"
   ]
  },
  {
   "cell_type": "code",
   "execution_count": 18,
   "id": "BsVwDNcQwthx",
   "metadata": {
    "colab": {
     "base_uri": "https://localhost:8080/"
    },
    "id": "BsVwDNcQwthx",
    "outputId": "fb6f315a-3dfd-43b8-e0be-023e4b53812d"
   },
   "outputs": [
    {
     "name": "stdout",
     "output_type": "stream",
     "text": [
      "The elements from index position 4 to the end of the array is [6 5 1 3 4 6 1]\n"
     ]
    }
   ],
   "source": [
    "#3.Display the elements from index position 4 to the end of the array?\n",
    "print(\"The elements from index position 4 to the end of the array is\", dice[4:])"
   ]
  },
  {
   "cell_type": "code",
   "execution_count": 19,
   "id": "jkR7CMrmw8tK",
   "metadata": {
    "colab": {
     "base_uri": "https://localhost:8080/"
    },
    "id": "jkR7CMrmw8tK",
    "outputId": "72c6823c-540c-4893-de38-d2d506df03bf"
   },
   "outputs": [
    {
     "name": "stdout",
     "output_type": "stream",
     "text": [
      "The elements from the 2nd position to the 7th position in the array is [2 1 1 6 5 1]\n"
     ]
    }
   ],
   "source": [
    "#4. Display the elements from the 2nd position to the 7th position in the array.\n",
    "print(\"The elements from the 2nd position to the 7th position in the array is\", dice[1:7])\n"
   ]
  },
  {
   "cell_type": "code",
   "execution_count": 20,
   "id": "5iIrSNCUxJXS",
   "metadata": {
    "colab": {
     "base_uri": "https://localhost:8080/"
    },
    "id": "5iIrSNCUxJXS",
    "outputId": "cc0ea93e-257b-4db5-851e-0a3106883514"
   },
   "outputs": [
    {
     "name": "stdout",
     "output_type": "stream",
     "text": [
      "The elements of the array in the reverse order is [1 6 4 3 1 5 6 1 1 2 1]\n"
     ]
    }
   ],
   "source": [
    "#5. Display the elements of the array in the reverse order?\n",
    "print(\"The elements of the array in the reverse order is\", dice[::-1])"
   ]
  },
  {
   "cell_type": "markdown",
   "id": "pzp3-wLSx-K5",
   "metadata": {
    "id": "pzp3-wLSx-K5"
   },
   "source": [
    "## Operations in an array\n",
    "\n",
    "These mathematical operations include addition, subtraction, multiplication and division of elements in arrays."
   ]
  },
  {
   "cell_type": "code",
   "execution_count": 22,
   "id": "vrrl3dbmy4uZ",
   "metadata": {
    "colab": {
     "base_uri": "https://localhost:8080/"
    },
    "id": "vrrl3dbmy4uZ",
    "outputId": "35d8e54e-991d-4f03-fa18-05cd88f09b35"
   },
   "outputs": [
    {
     "name": "stdout",
     "output_type": "stream",
     "text": [
      "The addition of array1 and array1 is  [5 7 9]\n",
      "The result of array1 subtracted from array 2 is  [-3 -3 -3]\n",
      "The result of product of array1 and array2 is  [ 4 10 18]\n",
      "The result of array1 divided by array2 is  [0.25 0.4  0.5 ]\n"
     ]
    }
   ],
   "source": [
    "array1 = np.array([1, 2, 3])\n",
    "array2 = np.array([4, 5, 6])\n",
    "\n",
    "# Addition\n",
    "result_add = np.add(array1, array2)\n",
    "print(\"The addition of array1 and array1 is \", result_add)\n",
    "\n",
    "# Subtraction\n",
    "result_subtract = np.subtract(array1, array2)\n",
    "print(\"The result of array1 subtracted from array 2 is \",result_subtract)\n",
    "\n",
    "# Multiplication\n",
    "result_multiply = np.multiply(array1, array2)\n",
    "print(\"The result of product of array1 and array2 is \",result_multiply)\n",
    "# Division\n",
    "result_divide = np.divide(array1, array2)\n",
    "print(\"The result of array1 divided by array2 is \", result_divide)\n"
   ]
  },
  {
   "cell_type": "markdown",
   "id": "lACiIL-x07z1",
   "metadata": {
    "id": "lACiIL-x07z1"
   },
   "source": [
    "In addition to the above operations, statistical operations like sum, mean, median, mode and standard deviation can also be performed on arrays."
   ]
  },
  {
   "cell_type": "code",
   "execution_count": 24,
   "id": "CwHeBqtU1HZ4",
   "metadata": {
    "colab": {
     "base_uri": "https://localhost:8080/"
    },
    "id": "CwHeBqtU1HZ4",
    "outputId": "185069c1-fd25-486c-a029-76f6f83fbea0"
   },
   "outputs": [
    {
     "name": "stdout",
     "output_type": "stream",
     "text": [
      "The mean value of the array is 3.0\n",
      "The median value of the array is 3.0\n",
      "The standard deviation of the array is  1.4142135623730951\n",
      "The sum of the array is  15\n"
     ]
    }
   ],
   "source": [
    "# Create an array\n",
    "arr = np.array([1, 2, 3, 4, 5])\n",
    "\n",
    "# Calculate mean\n",
    "mean = np.mean(arr)\n",
    "print(\"The mean value of the array is\" ,mean)\n",
    "\n",
    "# Calculate median\n",
    "median = np.median(arr)\n",
    "print(\"The median value of the array is\",median)\n",
    "\n",
    "# Calculate standard deviation\n",
    "std_dev = np.std(arr)\n",
    "print(\"The standard deviation of the array is \",std_dev)\n",
    "\n",
    "#Calculate sum\n",
    "sum = np.sum(arr)\n",
    "print(\"The sum of the array is \",sum)\n"
   ]
  },
  {
   "cell_type": "markdown",
   "id": "JFQ0vQeg2Qar",
   "metadata": {
    "id": "JFQ0vQeg2Qar"
   },
   "source": [
    "### Question 3\n",
    "\n",
    "Imagine you throw two dice ten times and get the following readings:\n",
    "\n",
    "- Dice 1 : 1 2 3 4 5 6 5 4 3 2\n",
    "\n",
    "- Dice 2 : 1 1 2 2 4 5 6 3 2 1\n",
    "\n",
    "Now, answer the following questions."
   ]
  },
  {
   "cell_type": "code",
   "execution_count": 26,
   "id": "d0b4b02b",
   "metadata": {
    "colab": {
     "base_uri": "https://localhost:8080/"
    },
    "id": "d0b4b02b",
    "outputId": "156462b7-6b38-4233-f4af-d61a1bb8737e"
   },
   "outputs": [
    {
     "name": "stdout",
     "output_type": "stream",
     "text": [
      "The sum of each roll is [ 2  3  5  6  9 11 11  7  5  3]\n"
     ]
    }
   ],
   "source": [
    "#1. Calculate the sum of each roll by adding corresponding elements from both arrays.\n",
    "dice1 = np.array([1,2,3,4,5,6,5,4,3,2])\n",
    "dice2 = np.array([1,1,2,2,4,5,6,3,2,1])\n",
    "sum = np.add(dice1, dice2)\n",
    "print(\"The sum of each roll is\", sum)"
   ]
  },
  {
   "cell_type": "code",
   "execution_count": 27,
   "id": "TAd02EP93cj7",
   "metadata": {
    "colab": {
     "base_uri": "https://localhost:8080/"
    },
    "id": "TAd02EP93cj7",
    "outputId": "8ae69961-d13d-485e-8fd3-8574ffcf7a48"
   },
   "outputs": [
    {
     "name": "stdout",
     "output_type": "stream",
     "text": [
      "The average reading for each die over the 10 rolls is 6.2\n"
     ]
    }
   ],
   "source": [
    "#2. Calculate the average reading for each die over the 10 rolls.\n",
    "mean = np.mean(sum)\n",
    "print(\"The average reading for each die over the 10 rolls is\", mean)"
   ]
  },
  {
   "cell_type": "code",
   "execution_count": 28,
   "id": "21nHFP793t_Q",
   "metadata": {
    "colab": {
     "base_uri": "https://localhost:8080/"
    },
    "id": "21nHFP793t_Q",
    "outputId": "fb4581bc-c012-47b7-db2b-d9c36f8684db"
   },
   "outputs": [
    {
     "name": "stdout",
     "output_type": "stream",
     "text": [
      "The median of the readings for dice1 is 3.5\n",
      "The median of the readings for dice2 is 2.0\n"
     ]
    }
   ],
   "source": [
    "#3. Determine the median of the readings for each dice1 and dice2.\n",
    "median1 = np.median(dice1)\n",
    "median2 = np.median(dice2)\n",
    "print(\"The median of the readings for dice1 is\", median1)\n",
    "print(\"The median of the readings for dice2 is\", median2)\n"
   ]
  },
  {
   "cell_type": "code",
   "execution_count": 29,
   "id": "1jK-i1qA4MwH",
   "metadata": {
    "colab": {
     "base_uri": "https://localhost:8080/"
    },
    "id": "1jK-i1qA4MwH",
    "outputId": "a37a051f-0ef1-4ca3-e12b-e314c5cf648d"
   },
   "outputs": [
    {
     "name": "stdout",
     "output_type": "stream",
     "text": [
      "The product of the readings of the two dice for each roll is [ 1  2  6  8 20 30 30 12  6  2]\n"
     ]
    }
   ],
   "source": [
    "#4. Multiply the readings of the two dice for each roll.\n",
    "product = np.multiply(dice1, dice2)\n",
    "print(\"The product of the readings of the two dice for each roll is\", product)"
   ]
  },
  {
   "cell_type": "code",
   "execution_count": 30,
   "id": "-gRI2zayR9YS",
   "metadata": {
    "colab": {
     "base_uri": "https://localhost:8080/"
    },
    "id": "-gRI2zayR9YS",
    "outputId": "ab7f5cb0-3451-4a83-d744-5edff599ef3c"
   },
   "outputs": [
    {
     "name": "stdout",
     "output_type": "stream",
     "text": [
      "The mean of each row is given by [5.  7.5]\n"
     ]
    }
   ],
   "source": [
    "#For a 2D array find out the mean for each row.\n",
    "array_mean = ([2,4,6,8],[3,6,9,12])\n",
    "print(\"The mean of each row is given by\",np.mean(array_mean, axis = 1))\n"
   ]
  },
  {
   "cell_type": "markdown",
   "id": "OiFVwcwO47nN",
   "metadata": {
    "id": "OiFVwcwO47nN"
   },
   "source": [
    "## Computing the frequency of occurrence of elements in an array\n",
    "\n",
    "The frequency of occurrence of elements can be computed using `np.unique` function."
   ]
  },
  {
   "cell_type": "code",
   "execution_count": 32,
   "id": "945cf59a",
   "metadata": {
    "colab": {
     "base_uri": "https://localhost:8080/"
    },
    "id": "945cf59a",
    "outputId": "bffd2324-34e2-4257-d517-4c3224547564"
   },
   "outputs": [
    {
     "data": {
      "text/plain": [
       "{1: 5, 2: 1, 3: 1, 4: 1, 5: 1, 6: 2}"
      ]
     },
     "execution_count": 32,
     "metadata": {},
     "output_type": "execute_result"
    }
   ],
   "source": [
    "values = np.array([1,2,1,1,6,5,1,3,4,6,1])\n",
    "unique, counts = np.unique(values, return_counts=True)\n",
    "dict(zip(unique, counts))"
   ]
  },
  {
   "cell_type": "code",
   "execution_count": 33,
   "id": "CJwxWVF85vkF",
   "metadata": {
    "colab": {
     "base_uri": "https://localhost:8080/"
    },
    "id": "CJwxWVF85vkF",
    "outputId": "460e6591-2135-4d58-ff32-d1db3085d062"
   },
   "outputs": [
    {
     "data": {
      "text/plain": [
       "{1: 1, 2: 2, 3: 2, 4: 2, 5: 2, 6: 1}"
      ]
     },
     "execution_count": 33,
     "metadata": {},
     "output_type": "execute_result"
    }
   ],
   "source": [
    "#For dice 1, what is the frequency of occurrence of every element?\n",
    "unique, counts = np.unique(dice1, return_counts=True)\n",
    "dict(zip(unique, counts))"
   ]
  },
  {
   "cell_type": "code",
   "execution_count": 34,
   "id": "_C8Y6R4K-GIE",
   "metadata": {
    "colab": {
     "base_uri": "https://localhost:8080/",
     "height": 452
    },
    "id": "_C8Y6R4K-GIE",
    "outputId": "458f3f87-8fb1-4389-b31c-687ba0d0ad6c"
   },
   "outputs": [
    {
     "data": {
      "image/png": "[encoded data removed]",
      "text/plain": [
       "<Figure size 640x480 with 1 Axes>"
      ]
     },
     "metadata": {},
     "output_type": "display_data"
    }
   ],
   "source": [
    "#You suspect that dice1 is not a fair dice.\n",
    "#Estimate the occurrence of each element and display the output in the form of a graph to prove your view\n",
    "import matplotlib.pyplot as plt\n",
    "unique, counts = np.unique(dice1, return_counts=True)\n",
    "plt.vlines(unique, 0, counts/10,lw = 55)\n",
    "plt.ylim(0, max(counts/10) * 1.06)\n",
    "plt.title(\"Density estimation\")\n",
    "plt.show()\n"
   ]
  },
  {
   "cell_type": "markdown",
   "id": "qOgN_1hv8goG",
   "metadata": {
    "id": "qOgN_1hv8goG"
   },
   "source": [
    "## Appending elements to an array\n",
    "\n",
    "The `np.append()` function allows you to add elements to the end of an array. It does not modify the original array but returns a new array with the appended elements."
   ]
  },
  {
   "cell_type": "code",
   "execution_count": 36,
   "id": "88e8b848",
   "metadata": {
    "colab": {
     "base_uri": "https://localhost:8080/"
    },
    "id": "88e8b848",
    "outputId": "72b80425-d66e-4d78-e50a-524cb781c4c0"
   },
   "outputs": [
    {
     "name": "stdout",
     "output_type": "stream",
     "text": [
      "The appended array is  [1 2 3 2 4 3]\n"
     ]
    }
   ],
   "source": [
    "array3 = np.array([1,2,3])\n",
    "array3 = np.append(array3, [2,4,3])\n",
    "print(\"The appended array is \",array3)"
   ]
  },
  {
   "cell_type": "code",
   "execution_count": 37,
   "id": "RPC7-3hj9jhF",
   "metadata": {
    "colab": {
     "base_uri": "https://localhost:8080/"
    },
    "id": "RPC7-3hj9jhF",
    "outputId": "7c7bcd7b-2ea7-4865-8556-652a91de2f39"
   },
   "outputs": [
    {
     "name": "stdout",
     "output_type": "stream",
     "text": [
      "The list of numbers thrown by dice 1 is [1 2 3 4 5 6 5 4 3 2 2 3 3]\n"
     ]
    }
   ],
   "source": [
    "#You through dice1 3 more times and get elements [2,3,3]. What is the list of numbers thrown by dice 1?\n",
    "dice1 = np.append(dice1, [2,3,3])\n",
    "print(\"The list of numbers thrown by dice 1 is\", dice1)"
   ]
  },
  {
   "cell_type": "markdown",
   "id": "m1T_NsKM9hb4",
   "metadata": {
    "id": "m1T_NsKM9hb4"
   },
   "source": [
    "## Creating arrays within specific intervals\n",
    "\n",
    "Use the `np.arange()` function in NumPy to create arrays with evenly spaced values within a specified interval. It is similar to the Python's `built-in range()` function. However, it works with both integers and floating-point numbers and returns a NumPy array.\n",
    "\n",
    "The function is: `numpy.arange([start, ] stop, [step, ] dtype=None)`,\n",
    "\n",
    "where:\n",
    "\n",
    "- `start` is the starting value of the interval.\n",
    "\n",
    "- `stop` is the end value of the interval.\n",
    "\n",
    "- `step` is the spacing between values with a default 1.\n",
    "\n",
    "- `dtype` is the data type of the output array."
   ]
  },
  {
   "cell_type": "code",
   "execution_count": 39,
   "id": "H2upL2WQImBr",
   "metadata": {
    "colab": {
     "base_uri": "https://localhost:8080/"
    },
    "id": "H2upL2WQImBr",
    "outputId": "b78b1f07-a1ed-4aea-e0b1-7b355e38bab3"
   },
   "outputs": [
    {
     "name": "stdout",
     "output_type": "stream",
     "text": [
      "The array created is given by [5 6 7 8 9]\n"
     ]
    }
   ],
   "source": [
    "arr_arange = np.arange(5, 10)\n",
    "print(\"The array created is given by\",arr_arange)\n"
   ]
  },
  {
   "cell_type": "code",
   "execution_count": 40,
   "id": "567d5ed6",
   "metadata": {
    "colab": {
     "base_uri": "https://localhost:8080/"
    },
    "id": "567d5ed6",
    "outputId": "5a665132-54a5-40b7-ac79-65c881d003d2"
   },
   "outputs": [
    {
     "name": "stdout",
     "output_type": "stream",
     "text": [
      "The list of two-digit integers from 10 to 100 is given by [10 11 12 13 14 15 16 17 18 19 20 21 22 23 24 25 26 27 28 29 30 31 32 33\n",
      " 34 35 36 37 38 39 40 41 42 43 44 45 46 47 48 49 50 51 52 53 54 55 56 57\n",
      " 58 59 60 61 62 63 64 65 66 67 68 69 70 71 72 73 74 75 76 77 78 79 80 81\n",
      " 82 83 84 85 86 87 88 89 90 91 92 93 94 95 96 97 98 99]\n"
     ]
    }
   ],
   "source": [
    "#List all the two-digit positive integers from 10 to 100\n",
    "two_digits = np.arange(10,100)\n",
    "print(\"The list of two-digit integers from 10 to 100 is given by\",two_digits)"
   ]
  },
  {
   "cell_type": "code",
   "execution_count": 41,
   "id": "3af71ba0",
   "metadata": {
    "colab": {
     "base_uri": "https://localhost:8080/"
    },
    "id": "3af71ba0",
    "outputId": "abfa1af7-04e3-4572-e4be-759d8b648f06"
   },
   "outputs": [
    {
     "data": {
      "text/plain": [
       "335"
      ]
     },
     "execution_count": 41,
     "metadata": {},
     "output_type": "execute_result"
    }
   ],
   "source": [
    "#How many numbers are there in the sequence S = 1,4,7,.....1005 for k?\n",
    "S = np.arange(1,1006, 3)\n",
    "np.shape(S)[0]"
   ]
  },
  {
   "cell_type": "markdown",
   "id": "0niXc2U9J2d5",
   "metadata": {
    "id": "0niXc2U9J2d5"
   },
   "source": [
    "## Iterating array elements\n",
    "\n",
    "You can iterate over elements in a NumPy array using basic Python loops or specialised NumPy functions like `nditer()` and `ndenumerate()`. Let's explore each method with examples."
   ]
  },
  {
   "cell_type": "code",
   "execution_count": 43,
   "id": "NhER8SgbLIJ1",
   "metadata": {
    "colab": {
     "base_uri": "https://localhost:8080/"
    },
    "id": "NhER8SgbLIJ1",
    "outputId": "02b53287-f99f-4bc5-f93f-ba8ab1ae55f1"
   },
   "outputs": [
    {
     "name": "stdout",
     "output_type": "stream",
     "text": [
      "1\n",
      "2\n",
      "3\n",
      "4\n",
      "5\n"
     ]
    }
   ],
   "source": [
    "arr1_iter = np.array([1, 2, 3, 4, 5])\n",
    "\n",
    "for element in arr:\n",
    "    print(element)\n"
   ]
  },
  {
   "cell_type": "code",
   "execution_count": 44,
   "id": "s5wSKTP3LSV_",
   "metadata": {
    "colab": {
     "base_uri": "https://localhost:8080/"
    },
    "id": "s5wSKTP3LSV_",
    "outputId": "5bf1b5af-131f-4ab0-817e-f1b3702d765a"
   },
   "outputs": [
    {
     "name": "stdout",
     "output_type": "stream",
     "text": [
      "1\n",
      "2\n",
      "3\n",
      "4\n",
      "5\n",
      "6\n"
     ]
    }
   ],
   "source": [
    "\n",
    "arr2_iter = np.array([[1, 2, 3], [4, 5, 6]])\n",
    "\n",
    "for row in arr2_iter:\n",
    "    for element in row:\n",
    "        print(element)\n"
   ]
  },
  {
   "cell_type": "code",
   "execution_count": 45,
   "id": "4wIqAV3mLqUI",
   "metadata": {
    "colab": {
     "base_uri": "https://localhost:8080/"
    },
    "id": "4wIqAV3mLqUI",
    "outputId": "64a5de30-aed4-4a68-ca99-c97483161bd8"
   },
   "outputs": [
    {
     "name": "stdout",
     "output_type": "stream",
     "text": [
      "1\n",
      "2\n",
      "3\n",
      "4\n",
      "5\n",
      "6\n",
      "7\n",
      "8\n",
      "9\n"
     ]
    }
   ],
   "source": [
    "arr3_iter = np.array([[1, 2, 3], [4, 5, 6],[7,8,9]])\n",
    "\n",
    "# Iterate over each element using nditer\n",
    "for element in np.nditer(arr3_iter):\n",
    "    print(element)\n"
   ]
  },
  {
   "cell_type": "code",
   "execution_count": 46,
   "id": "3u1Oj5gvL-Z_",
   "metadata": {
    "colab": {
     "base_uri": "https://localhost:8080/"
    },
    "id": "3u1Oj5gvL-Z_",
    "outputId": "3817c6a2-d588-40ed-a1d0-36ff78d604f6"
   },
   "outputs": [
    {
     "name": "stdout",
     "output_type": "stream",
     "text": [
      "Index: (0, 0), Value: 1\n",
      "Index: (0, 1), Value: 2\n",
      "Index: (0, 2), Value: 3\n",
      "Index: (1, 0), Value: 4\n",
      "Index: (1, 1), Value: 5\n",
      "Index: (1, 2), Value: 6\n"
     ]
    }
   ],
   "source": [
    "#If both index and values are required enumerate is used\n",
    "arr2_enumerate = np.array([[1, 2, 3], [4, 5, 6]])\n",
    "\n",
    "for idx, element in np.ndenumerate(arr2_enumerate):\n",
    "    print(f\"Index: {idx}, Value: {element}\")\n"
   ]
  },
  {
   "cell_type": "code",
   "execution_count": 47,
   "id": "9lUKMD87MxBe",
   "metadata": {
    "colab": {
     "base_uri": "https://localhost:8080/"
    },
    "id": "9lUKMD87MxBe",
    "outputId": "6d5a1039-2293-444a-a96d-664f816ca97b"
   },
   "outputs": [
    {
     "name": "stdout",
     "output_type": "stream",
     "text": [
      "Index: (0, 0), Value: 1\n",
      "Index: (0, 1), Value: 2\n",
      "Index: (1, 0), Value: 3\n",
      "Index: (1, 1), Value: 4\n",
      "Index: (2, 0), Value: 5\n",
      "Index: (2, 1), Value: 6\n",
      "Index: (3, 0), Value: 2\n",
      "Index: (3, 1), Value: 5\n",
      "Index: (4, 0), Value: 6\n",
      "Index: (4, 1), Value: 3\n",
      "Total Sum of All Dice Rolls: 37\n"
     ]
    }
   ],
   "source": [
    "#Suppose you have a 2D array representing the outcomes of rolling two dice multiple times.\n",
    "#Each row represents a roll, and the columns represent the outcomes of the first and second dice, respectively.\n",
    "#Iterate over the array and print the index and value of each outcome.\n",
    "#Calculate the total sum of all dice rolls.\n",
    "dice_outcomes = np.array([\n",
    "    [1, 2],\n",
    "    [3, 4],\n",
    "    [5, 6],\n",
    "    [2, 5],\n",
    "    [6, 3]\n",
    "])\n",
    "# Initialize total sum\n",
    "total_sum = 0\n",
    "\n",
    "# Iterate over the array using ndenumerate\n",
    "for idx, value in np.ndenumerate(dice_outcomes):\n",
    "    print(f\"Index: {idx}, Value: {value}\")\n",
    "    total_sum += value\n",
    "print(f\"Total Sum of All Dice Rolls: {total_sum}\")"
   ]
  },
  {
   "cell_type": "markdown",
   "id": "3c068099",
   "metadata": {
    "id": "3c068099"
   },
   "source": [
    "## Encoding values in an array\n",
    "\n",
    "To encode values in a NumPy array, you can use techniques like one-hot encoding or string encoding depending on the type of data and the purpose:\n",
    "\n",
    "- One-hot encoding is commonly used in machine learning to convert categorical data into a binary matrix.\n",
    "\n",
    "- To encode or decode strings, use string encoding."
   ]
  },
  {
   "cell_type": "code",
   "execution_count": 49,
   "id": "U4bvsbRZO4-m",
   "metadata": {
    "colab": {
     "base_uri": "https://localhost:8080/"
    },
    "id": "U4bvsbRZO4-m",
    "outputId": "8daa657a-cb37-43fa-f4f9-7887ec395712"
   },
   "outputs": [
    {
     "name": "stdout",
     "output_type": "stream",
     "text": [
      "Original Genders: ['Male' 'Female' 'Male' 'Female' 'Male']\n",
      "Encoded Genders: [0 1 0 1 0]\n"
     ]
    }
   ],
   "source": [
    "genders = np.array(['Male', 'Female', 'Male', 'Female', 'Male'])\n",
    "\n",
    "encoded_genders = np.where(genders == 'Male', 0, 1)\n",
    "# Male is encoded to 0 and Female to 1\n",
    "print(\"Original Genders:\", genders)\n",
    "print(\"Encoded Genders:\", encoded_genders)\n"
   ]
  },
  {
   "cell_type": "markdown",
   "id": "b88d8dec",
   "metadata": {
    "id": "b88d8dec"
   },
   "source": [
    "You record a coin-throwing experiment ten times and obtain 'H-T-H-H-H-T-T-T-T-H'."
   ]
  },
  {
   "cell_type": "code",
   "execution_count": 51,
   "id": "03528bb6",
   "metadata": {
    "colab": {
     "base_uri": "https://localhost:8080/"
    },
    "id": "03528bb6",
    "outputId": "4b230b1a-46b5-4cd3-8515-17e3ec706930"
   },
   "outputs": [
    {
     "name": "stdout",
     "output_type": "stream",
     "text": [
      "Original Coin Throw: ['H' 'T' 'H' 'H' 'H' 'T' 'T' 'T' 'T' 'H']\n",
      "Encoded Coin Throw: [1 0 1 1 1 0 0 0 0 1]\n"
     ]
    }
   ],
   "source": [
    "#A coin is thrown 10 times and the output is noted in an array.\n",
    "#Encode this information to a numeric array of '0' and '1'\n",
    "#Use may use 'H' is 1, and 'T' is 0.\n",
    "coin_throw = np.array(['H','T', 'H','H','H','T','T','T','T','H'])\n",
    "encoded_coin_throw = np.where(coin_throw == 'H', 1, 0)\n",
    "print(\"Original Coin Throw:\", coin_throw)\n",
    "print(\"Encoded Coin Throw:\", encoded_coin_throw)"
   ]
  },
  {
   "cell_type": "markdown",
   "id": "25fddc3e",
   "metadata": {
    "id": "25fddc3e"
   },
   "source": [
    "## Reshaping the array in different dimensions\n",
    "\n",
    "To reshape an array using NumPy, you can use the `np.reshape()` function. This function allows you to change the shape of an array without altering its data."
   ]
  },
  {
   "cell_type": "code",
   "execution_count": 53,
   "id": "MYSTqBf5V124",
   "metadata": {
    "colab": {
     "base_uri": "https://localhost:8080/"
    },
    "id": "MYSTqBf5V124",
    "outputId": "b15e6899-b4a3-42e7-bccc-fa13694161c1"
   },
   "outputs": [
    {
     "name": "stdout",
     "output_type": "stream",
     "text": [
      "[[1 2 3]\n",
      " [4 5 6]]\n"
     ]
    }
   ],
   "source": [
    "arr_reshape = np.array([1, 2, 3, 4, 5, 6])\n",
    "\n",
    "# Reshape the array into a 2D array with 2 rows and 3 columns\n",
    "new_arr = arr_reshape.reshape(2, 3)\n",
    "\n",
    "print(new_arr)\n"
   ]
  },
  {
   "cell_type": "code",
   "execution_count": 54,
   "id": "1cf4c946",
   "metadata": {
    "colab": {
     "base_uri": "https://localhost:8080/"
    },
    "id": "1cf4c946",
    "outputId": "ce532823-4732-4c5b-d6fc-91da798e4c80"
   },
   "outputs": [
    {
     "name": "stdout",
     "output_type": "stream",
     "text": [
      "The values for each player is stored for each row is [['H' 'T' 'T']\n",
      " ['T' 'H' 'H']]\n"
     ]
    }
   ],
   "source": [
    "# A fair coin is tossed by two players and stored in an array.\n",
    "#Each player played 3 times in a row.\n",
    "#Show the  values played by each player\n",
    "coins = np.array(['H','T','T','T','H','H'])\n",
    "coins = coins.reshape(2,3)\n",
    "print(\"The values for each player is stored for each row is\",coins)"
   ]
  },
  {
   "cell_type": "code",
   "execution_count": null,
   "id": "Th201OmGWU9D",
   "metadata": {
    "id": "Th201OmGWU9D"
   },
   "outputs": [],
   "source": []
  }
 ],
 "metadata": {
  "colab": {
   "provenance": []
  },
  "kernelspec": {
   "display_name": "Python [conda env:imperialtest]",
   "language": "python",
   "name": "conda-env-imperialtest-py"
  },
  "language_info": {
   "codemirror_mode": {
    "name": "ipython",
    "version": 3
   },
   "file_extension": ".py",
   "mimetype": "text/x-python",
   "name": "python",
   "nbconvert_exporter": "python",
   "pygments_lexer": "ipython3",
   "version": "3.13.5"
  }
 },
 "nbformat": 4,
 "nbformat_minor": 5
}
