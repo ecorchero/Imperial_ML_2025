{
 "cells": [
  {
   "cell_type": "markdown",
   "metadata": {},
   "source": [
    "# Required assignment 3.1-Monte Carlo simulations"
   ]
  },
  {
   "cell_type": "markdown",
   "metadata": {},
   "source": [
    "The Monty Hall problem is a well-known probability puzzle inspired by the game show Let’s Make a Deal, hosted by Monty Hall.\n",
    "\n",
    "In the game show, you’re presented with three doors. Behind one is a car; behind the other two, goats. You pick a door, hoping for the car. Monty, who knows what’s behind each door, opens one of the remaining two to reveal a goat. He then gives you a choice: stick with your original door or switch to the other unopened one.\n",
    "\n",
    "What should you do? Stay or switch?\n",
    "\n",
    "Let’s simulate this scenario in Python to find out."
   ]
  },
  {
   "cell_type": "code",
   "execution_count": null,
   "metadata": {},
   "outputs": [],
   "source": [
    "#import necessary libraries\n",
    "\n",
    "import numpy as np\n",
    "import random\n",
    "from random import randrange\n",
    "from matplotlib import pyplot as plt"
   ]
  },
  {
   "cell_type": "markdown",
   "metadata": {},
   "source": [
    "## The original Monty Hall game\n",
    "\n",
    "### Step 1: Construct three 'imaginary' doors, one with a car behind and not known to the player\n",
    "\n",
    "#### Question 1: Get the player's input about their choice of door\n",
    "\n",
    "- Store the selected door in a variable called `picked_door`. \n",
    "\n",
    "- Remove the `picked_door` from the list of `doors`.\n"
   ]
  },
  {
   "cell_type": "code",
   "execution_count": null,
   "metadata": {
    "deletable": false,
    "nbgrader": {
     "cell_type": "code",
     "checksum": "bd571af49e82359d3f70f8c50b48e1d0",
     "grade": false,
     "grade_id": "cell-2fabc04c53ca2705",
     "locked": false,
     "schema_version": 3,
     "solution": true
    }
   },
   "outputs": [],
   "source": [
    "###GRADED\n",
    "# Write the logic for picking one door and removing it\n",
    "\n",
    "picked_door = None\n",
    "winning_door = randrange(3)\n",
    "random.seed(23) # Set the random number generator \n",
    "doors = [0,1,2]\n",
    "# YOUR CODE HERE\n",
    "raise NotImplementedError()\n",
    "\n",
    "print(\"You picked door\", str(picked_door) + \".\")\n",
    "\n",
    "print(\"The remaining doors are therefore:\", doors)"
   ]
  },
  {
   "cell_type": "code",
   "execution_count": null,
   "metadata": {
    "deletable": false,
    "editable": false,
    "nbgrader": {
     "cell_type": "code",
     "checksum": "dbd398185c9b0c5a05092cdf27c33653",
     "grade": true,
     "grade_id": "cell-f35cabbbd978d2b8",
     "locked": true,
     "points": 1,
     "schema_version": 3,
     "solution": false
    }
   },
   "outputs": [],
   "source": []
  },
  {
   "cell_type": "markdown",
   "metadata": {},
   "source": [
    "The `reveal_empty_door()` function simulates the game show host’s action in the Monty Hall problem by revealing a non-winning door. It ensures the host never opens the door hiding the prize, reflecting the host’s knowledge and intentional behaviour. This is essential for accurately modelling the decision-making dynamics and outcomes of the Monty Hall scenario."
   ]
  },
  {
   "cell_type": "code",
   "execution_count": null,
   "metadata": {},
   "outputs": [],
   "source": [
    "def reveal_empty_door(doors, winning_door):\n",
    "    \"\"\"\n",
    "    The host knows which door is winning, so opens one of the empty doors!\n",
    "    \"\"\"\n",
    "    sample_from = [] #Host cannot open the door that is the winning door. So the host has 1 or 2 candidate doors.\n",
    "    if len(doors) != 2:\n",
    "        print(\"There is an issue!\")\n",
    "        return None\n",
    "    else:\n",
    "        if doors[0]!= winning_door:\n",
    "            sample_from.append(doors[0])\n",
    "        if doors[1]!= winning_door:\n",
    "            sample_from.append(doors[1])\n",
    "    return random.choice(sample_from)"
   ]
  },
  {
   "cell_type": "markdown",
   "metadata": {},
   "source": [
    "The host reveals an empty door, removes it from the available choices and identifies the remaining unopened door, which is the contestant's alternative if they choose to switch. This step is central to the decision-making process in the Monty Hall problem."
   ]
  },
  {
   "cell_type": "code",
   "execution_count": null,
   "metadata": {},
   "outputs": [],
   "source": [
    "open_door = reveal_empty_door(doors, winning_door)\n",
    "print(\"The host reveals door\", open_door)\n",
    "doors.remove(open_door)\n",
    "remaining_door = doors[0]"
   ]
  },
  {
   "cell_type": "markdown",
   "metadata": {},
   "source": [
    "The contestant is reminded of their initial choice and given the option to switch to the other unopened door, highlighting the critical decision point in the Monty Hall problem."
   ]
  },
  {
   "cell_type": "code",
   "execution_count": null,
   "metadata": {},
   "outputs": [],
   "source": [
    "print(\"You initially picked door\", picked_door, \"but you can switch to door\", remaining_door)"
   ]
  },
  {
   "cell_type": "markdown",
   "metadata": {},
   "source": [
    "The contestant chooses whether to switch doors or stay with the original selection. If `yes_no` is 'yes', the choice is updated to the other unopened door. Otherwise, the original choice is retained. A message is printed indicating the contestant's final selection."
   ]
  },
  {
   "cell_type": "code",
   "execution_count": null,
   "metadata": {},
   "outputs": [],
   "source": [
    "yes_no = 'yes'  # Change to 'no' if you want to keep the original door\n",
    "\n",
    "if yes_no == \"yes\":\n",
    "    print(\"You switched to door\", remaining_door)\n",
    "    picked_door = remaining_door\n",
    "else:\n",
    "    print(\"You keep your door\", picked_door)"
   ]
  },
  {
   "cell_type": "code",
   "execution_count": null,
   "metadata": {},
   "outputs": [],
   "source": [
    "print(\"Let's see if we won: (True means you are the winner!)\")\n",
    "print(picked_door == winning_door)"
   ]
  },
  {
   "cell_type": "markdown",
   "metadata": {},
   "source": [
    "### Step 2: Run the simulation function, which returns 1 for a win and 0 otherwise\n",
    "\n",
    "The `simulate_round()` function runs a single Monty Hall game round. The contestant selects a door, the prize is randomly placed and the host reveals a non-winning door. Based on the contestant's decision to switch or stay (`yes_no`), the function returns 1 for a win and 0 for a loss.\n"
   ]
  },
  {
   "cell_type": "code",
   "execution_count": null,
   "metadata": {},
   "outputs": [],
   "source": [
    "def simulate_round(picked_door, yes_no):\n",
    "    \"\"\"\n",
    "    Inputs: picked_door (0 1 or 2), decision of switching the door (\"yes\" or \"no\")\n",
    "    Returns: whether or not we win the prize (1: win, 0: lose)\n",
    "    \"\"\"\n",
    "    doors = [0,1,2]\n",
    "    winning_door = randrange(3) # it can be 0, 1, or 2! We don't know the truth yet.\n",
    "    doors.remove(picked_door)\n",
    "    open_door = reveal_empty_door(doors, winning_door)\n",
    "    doors.remove(open_door)\n",
    "    remaining_door = doors[0]\n",
    "    if yes_no == \"yes\":\n",
    "        picked_door = remaining_door\n",
    "    return int(picked_door == winning_door)"
   ]
  },
  {
   "cell_type": "markdown",
   "metadata": {},
   "source": [
    "## Step 3: Simulate player's decisions"
   ]
  },
  {
   "cell_type": "markdown",
   "metadata": {},
   "source": [
    "The Monty Hall game is simulated 30,000 times with the contestant always choosing door 1 and never switching. Each round's outcome is recorded, and the cumulative win ratio is calculated to show how the winning percentage evolves over time.\n",
    "\n"
   ]
  },
  {
   "cell_type": "code",
   "execution_count": null,
   "metadata": {},
   "outputs": [],
   "source": [
    "picked_door = 1 #fix a door (0,1, or 2)\n",
    "yes_no = \"no\" #let's start with the strategy of keeping our door!\n",
    "simulate = 30000 #number of times to simulate\n",
    "results = np.zeros(simulate) #a lot of zeros\n",
    "for i in range(simulate):\n",
    "    results[i] = simulate_round(picked_door, yes_no)\n",
    "ratios = np.cumsum(results) / (np.arange(1,simulate+ 1))"
   ]
  },
  {
   "cell_type": "markdown",
   "metadata": {},
   "source": [
    "The plot displays the first 3,000 rounds of Monty Hall simulations where the contestant does not switch doors. The x-axis represents the number of rounds played, and the y-axis shows the cumulative win percentage. A dashed horizontal line at 1/3 indicates the theoretical probability of winning by staying with the initial choice."
   ]
  },
  {
   "cell_type": "code",
   "execution_count": null,
   "metadata": {},
   "outputs": [],
   "source": [
    "plot_limit = 3000 #plot how the ratio changes oby increasing $n$\n",
    "x = np.arange(1, plot_limit + 1)\n",
    "y = ratios[:plot_limit]\n",
    "plt.title(r\"Win ratio over (n) if we say 'no'\")\n",
    "plt.xlabel(\"n = number of rounds played\")\n",
    "plt.ylabel(r\"Cumulative win percentage\")\n",
    "plt.axhline(y = 1/3, color = 'k', linestyle='--', alpha = 0.6, label = r\"Probability of wining\")\n",
    "plt.plot(x,y)\n",
    "plt.xlim(-5,plot_limit)\n",
    "plt.ylim(0.1,0.6)\n",
    "plt.legend()\n",
    "plt.show()"
   ]
  },
  {
   "cell_type": "markdown",
   "metadata": {},
   "source": [
    "The plot shows the observed win ratio gradually converging toward the expected value, with axis limits adjusted to highlight the 10 per cent to 60 per cent win rate range for clarity."
   ]
  },
  {
   "cell_type": "markdown",
   "metadata": {},
   "source": [
    "#### Question 2: Simulate the decisions for the following situation\n",
    "\n",
    "If `picked_door` is 2 and the user chooses to switch (`yes_no` = 'yes'), run the simulation for 10,000 iterations."
   ]
  },
  {
   "cell_type": "code",
   "execution_count": null,
   "metadata": {
    "deletable": false,
    "nbgrader": {
     "cell_type": "code",
     "checksum": "df74e8b1aa30e19ec7948d82ef544967",
     "grade": false,
     "grade_id": "cell-a3d098f891785682",
     "locked": false,
     "schema_version": 3,
     "solution": true
    }
   },
   "outputs": [],
   "source": [
    "### GRADED\n",
    "picked_door = ...\n",
    "yes_no = ...\n",
    "simulate = ...\n",
    "\n",
    "### YOUR SOLUTION HERE\n",
    "# YOUR CODE HERE\n",
    "raise NotImplementedError()"
   ]
  },
  {
   "cell_type": "code",
   "execution_count": null,
   "metadata": {
    "deletable": false,
    "editable": false,
    "nbgrader": {
     "cell_type": "code",
     "checksum": "08e454da991b3618e57f8d701ac0ac49",
     "grade": true,
     "grade_id": "cell-36c89f6e6c80f7c3",
     "locked": true,
     "points": 1,
     "schema_version": 3,
     "solution": false
    }
   },
   "outputs": [],
   "source": []
  },
  {
   "cell_type": "markdown",
   "metadata": {},
   "source": [
    "The simulations for Question 2 are plotted below. "
   ]
  },
  {
   "cell_type": "code",
   "execution_count": null,
   "metadata": {},
   "outputs": [],
   "source": [
    "plot_limit = 3000 \n",
    "x = np.arange(1, plot_limit + 1)\n",
    "y = ratios[:plot_limit]\n",
    "plt.title(r\"Win ratio over (n) if we say 'yes' and picked_door = 2\")\n",
    "plt.xlabel(\"n = number of rounds played\")\n",
    "plt.ylabel(r\"Cumulative win percentage\")\n",
    "plt.axhline(y = 2/3, color = 'k', linestyle='--', alpha = 0.6, label = r\"Probability of winning\")\n",
    "plt.plot(x,y, color='r')\n",
    "plt.xlim(-5,plot_limit)\n",
    "plt.ylim(0.4,0.8)\n",
    "plt.legend()\n",
    "plt.show()"
   ]
  },
  {
   "cell_type": "markdown",
   "metadata": {},
   "source": [
    "## Modification of the game\n",
    "\n",
    "Each time the host offers you the option to switch doors, you flip a biased coin with probability $\\theta$ of landing on 'H'. If it lands on 'H', you switch; otherwise, you stick with your original choice."
   ]
  },
  {
   "cell_type": "code",
   "execution_count": null,
   "metadata": {},
   "outputs": [],
   "source": [
    "def simulate_with_coins(picked_door, theta):\n",
    "    \"\"\"\n",
    "    Inputs: picked_door (0 1 or 2), decision of switching the door (\"yes\" or \"no\")\n",
    "    Returns: whether or not we win the prize (1: win, 0: lose)\n",
    "    \"\"\"\n",
    "    doors = [0,1,2]\n",
    "    winning_door = randrange(3) # it can be 0, 1, or 2! We don't know the truth yet.\n",
    "    doors.remove(picked_door)\n",
    "    open_door = reveal_empty_door(doors, winning_door)\n",
    "    doors.remove(open_door)\n",
    "    remaining_door = doors[0]\n",
    "    flip = np.random.uniform(0,1)\n",
    "\n",
    "    if flip <= theta:\n",
    "        picked_door = remaining_door\n",
    "    else:\n",
    "        picked_door = picked_door\n",
    "    return int(picked_door == winning_door)"
   ]
  },
  {
   "cell_type": "markdown",
   "metadata": {},
   "source": [
    "#### Question 3: Show the probability of winning using this strategy as a function of $\\theta$.\n",
    "\n",
    "If $\\theta = 0.6$, write the logic for selecting a door using the `simulate_with_coins` function, and compute the value of ratios.\n",
    "\n",
    "Hint: Follow the same approach as in Question 2, using `picked_door = 1` and `simulate = 30,000`."
   ]
  },
  {
   "cell_type": "code",
   "execution_count": null,
   "metadata": {
    "deletable": false,
    "nbgrader": {
     "cell_type": "code",
     "checksum": "011689e0db3607f94631bf9a61e10f44",
     "grade": false,
     "grade_id": "cell-082d5746c4058563",
     "locked": false,
     "schema_version": 3,
     "solution": true
    }
   },
   "outputs": [],
   "source": [
    "###GRADED\n",
    "\n",
    "picked_door = ...\n",
    "theta = ...\n",
    "simulate = ...\n",
    "###YOUR SOLUTION HERE\n",
    "\n",
    "# YOUR CODE HERE\n",
    "raise NotImplementedError()\n",
    "\n",
    "print(\"We win with a\", ratios[-1], \"fraction of the time!\")"
   ]
  },
  {
   "cell_type": "code",
   "execution_count": null,
   "metadata": {
    "deletable": false,
    "editable": false,
    "nbgrader": {
     "cell_type": "code",
     "checksum": "383be4f3a7800264d21d7775b2a32383",
     "grade": true,
     "grade_id": "cell-3f14ec1383196845",
     "locked": true,
     "points": 1,
     "schema_version": 3,
     "solution": false
    }
   },
   "outputs": [],
   "source": []
  },
  {
   "cell_type": "markdown",
   "metadata": {},
   "source": [
    "Imagine this:\n",
    "\n",
    "- You’re playing a modified version of the Monty Hall game.\n",
    "\n",
    "- You start with £5. Each round costs £1 to play.\n",
    "\n",
    "- If you pick the winning door, you earn £2 (recovering your £1 and gaining a £1 profit). If you lose, you forfeit the £1.\n",
    "\n",
    "- Your strategy: switch doors based on a coin flip. If a random number between 0 and 1 is less than or equal to $\\theta$, you switch; otherwise, you stick with your original choice."
   ]
  },
  {
   "cell_type": "code",
   "execution_count": null,
   "metadata": {},
   "outputs": [],
   "source": [
    "def reveal_empty_door(doors, winning_door):\n",
    "    options = []\n",
    "    for k in doors:\n",
    "        if k != winning_door:\n",
    "            options.append(k)\n",
    "    return random.choice(options)\n",
    "\n",
    "def simulate_round(picked_door, theta):\n",
    "    \"\"\"\n",
    "    Inputs: picked_door (0 1 or 2), decision of switching the door (\"yes\" or \"no\")\n",
    "    Returns: whether or not we win the prize (1: win, 0: lose)\n",
    "    \"\"\"\n",
    "    doors = [0,1,2]\n",
    "    winning_door = random.randrange(3) # it can be 0, 1, or 2! We don't know the truth yet.\n",
    "    doors.remove(picked_door)\n",
    "    open_door = reveal_empty_door(doors, winning_door)\n",
    "    doors.remove(open_door)\n",
    "    remaining_door = doors[0]\n",
    "    flip = np.random.uniform(0,1)\n",
    "    if flip <= theta:\n",
    "        picked_door = remaining_door\n",
    "\n",
    "    return int(picked_door == winning_door)\n",
    "\n",
    "def simulate_with_coins(picked_door, theta):\n",
    "    \"\"\"\n",
    "    Inputs: picked_door (0 1 or 2), decision of switching the door (\"yes\" or \"no\")\n",
    "    Returns: whether or not we win the prize (1: win, 0: lose)\n",
    "    \"\"\"\n",
    "    doors = [0,1,2]\n",
    "    winning_door = random.randrange(3) # it can be 0, 1, or 2! We don't know the truth yet.\n",
    "    doors.remove(picked_door)\n",
    "    open_door = reveal_empty_door(doors, winning_door)\n",
    "    doors.remove(open_door)\n",
    "    remaining_door = doors[0]\n",
    "    flip = np.random.uniform(0,1)\n",
    "\n",
    "    if flip <= theta:\n",
    "        picked_door = remaining_door\n",
    "\n",
    "    return int(picked_door == winning_door)\n",
    "\n",
    "def survival_probability(theta, num_rounds, num_simulations):\n",
    "    \"\"\"\n",
    "    Simulates the Monty Hall game and estimates the probability of survival.\n",
    "\n",
    "    Args:\n",
    "        theta (float): Probability threshold for switching doors.\n",
    "        num_rounds (int): Number of rounds to simulate.\n",
    "        num_simulations (int): Number of simulation runs.\n",
    "\n",
    "    Returns:\n",
    "        float: Estimated probability of survival.\n",
    "    \"\"\"\n",
    "    survival_count = 0\n",
    "    for _ in range(num_simulations):\n",
    "        money = 5\n",
    "        for _ in range(num_rounds):\n",
    "            money -= 1  # Pay to play\n",
    "            if money <= 0:\n",
    "                break\n",
    "            picked_door = random.randint(0, 2)\n",
    "            if simulate_with_coins(picked_door, theta):\n",
    "                money += 2  # Win £2 (profit of £1)\n",
    "        if money > 0:\n",
    "            survival_count += 1\n",
    "\n",
    "    survival_probability =  survival_count / num_simulations\n",
    "    print(f\"Estimated survival probability: {survival_probability:.4f}\")\n",
    "    return survival_probability\n"
   ]
  },
  {
   "cell_type": "markdown",
   "metadata": {},
   "source": [
    "#### Question 4: Estimate the `survival_probability` when `theta = 0.4`, `num_rounds = 10` and `num_simulations = 10000`"
   ]
  },
  {
   "cell_type": "code",
   "execution_count": null,
   "metadata": {
    "deletable": false,
    "nbgrader": {
     "cell_type": "code",
     "checksum": "6b13d90af9db284bb0e47285f0d2da7f",
     "grade": false,
     "grade_id": "cell-262307658993030e",
     "locked": false,
     "schema_version": 3,
     "solution": true
    }
   },
   "outputs": [],
   "source": [
    "###GRADED\n",
    "\n",
    "theta = ...\n",
    "num_rounds = ...\n",
    "num_simulations = ...\n",
    "\n",
    "### YOUR SOLUTION HERE\n",
    "\n",
    "# YOUR CODE HERE\n",
    "raise NotImplementedError()"
   ]
  },
  {
   "cell_type": "code",
   "execution_count": null,
   "metadata": {
    "deletable": false,
    "editable": false,
    "nbgrader": {
     "cell_type": "code",
     "checksum": "08e76eee14b05505b1793654ed48dc71",
     "grade": true,
     "grade_id": "cell-1410c67ae90e7147",
     "locked": true,
     "points": 1,
     "schema_version": 3,
     "solution": false
    }
   },
   "outputs": [],
   "source": []
  }
 ],
 "metadata": {
  "kernelspec": {
   "display_name": "Python 3 (ipykernel)",
   "language": "python",
   "name": "python3"
  },
  "language_info": {
   "codemirror_mode": {
    "name": "ipython",
    "version": 3
   },
   "file_extension": ".py",
   "mimetype": "text/x-python",
   "name": "python",
   "nbconvert_exporter": "python",
   "pygments_lexer": "ipython3",
   "version": "3.11.9"
  }
 },
 "nbformat": 4,
 "nbformat_minor": 4
}
